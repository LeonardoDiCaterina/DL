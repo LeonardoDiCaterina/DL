{
 "cells": [
  {
   "cell_type": "markdown",
   "metadata": {},
   "source": [
    "# Metadata exploration"
   ]
  },
  {
   "cell_type": "code",
   "execution_count": 84,
   "metadata": {},
   "outputs": [
    {
     "name": "stdout",
     "output_type": "stream",
     "text": [
      "metadata_exploration.ipynb\n"
     ]
    }
   ],
   "source": [
    "! ls"
   ]
  },
  {
   "cell_type": "code",
   "execution_count": 85,
   "metadata": {},
   "outputs": [
    {
     "data": {
      "application/vnd.microsoft.datawrangler.viewer.v0+json": {
       "columns": [
        {
         "name": "index",
         "rawType": "int64",
         "type": "integer"
        },
        {
         "name": "rare_species_id",
         "rawType": "object",
         "type": "string"
        },
        {
         "name": "eol_content_id",
         "rawType": "int64",
         "type": "integer"
        },
        {
         "name": "eol_page_id",
         "rawType": "int64",
         "type": "integer"
        },
        {
         "name": "kingdom",
         "rawType": "object",
         "type": "string"
        },
        {
         "name": "phylum",
         "rawType": "object",
         "type": "string"
        },
        {
         "name": "family",
         "rawType": "object",
         "type": "string"
        },
        {
         "name": "file_path",
         "rawType": "object",
         "type": "string"
        }
       ],
       "conversionMethod": "pd.DataFrame",
       "ref": "d9409281-c7ee-4a4b-9352-666bd452a0fd",
       "rows": [
        [
         "0",
         "75fd91cb-2881-41cd-88e6-de451e8b60e2",
         "12853737",
         "449393",
         "animalia",
         "mollusca",
         "unionidae",
         "mollusca_unionidae/12853737_449393_eol-full-size-copy.jpg"
        ],
        [
         "1",
         "28c508bc-63ff-4e60-9c8f-1934367e1528",
         "20969394",
         "793083",
         "animalia",
         "chordata",
         "geoemydidae",
         "chordata_geoemydidae/20969394_793083_eol-full-size-copy.jpg"
        ],
        [
         "2",
         "00372441-588c-4af8-9665-29bee20822c0",
         "28895411",
         "319982",
         "animalia",
         "chordata",
         "cryptobranchidae",
         "chordata_cryptobranchidae/28895411_319982_eol-full-size-copy.jpg"
        ],
        [
         "3",
         "29cc6040-6af2-49ee-86ec-ab7d89793828",
         "29658536",
         "45510188",
         "animalia",
         "chordata",
         "turdidae",
         "chordata_turdidae/29658536_45510188_eol-full-size-copy.jpg"
        ],
        [
         "4",
         "94004bff-3a33-4758-8125-bf72e6e57eab",
         "21252576",
         "7250886",
         "animalia",
         "chordata",
         "indriidae",
         "chordata_indriidae/21252576_7250886_eol-full-size-copy.jpg"
        ]
       ],
       "shape": {
        "columns": 7,
        "rows": 5
       }
      },
      "text/html": [
       "<div>\n",
       "<style scoped>\n",
       "    .dataframe tbody tr th:only-of-type {\n",
       "        vertical-align: middle;\n",
       "    }\n",
       "\n",
       "    .dataframe tbody tr th {\n",
       "        vertical-align: top;\n",
       "    }\n",
       "\n",
       "    .dataframe thead th {\n",
       "        text-align: right;\n",
       "    }\n",
       "</style>\n",
       "<table border=\"1\" class=\"dataframe\">\n",
       "  <thead>\n",
       "    <tr style=\"text-align: right;\">\n",
       "      <th></th>\n",
       "      <th>rare_species_id</th>\n",
       "      <th>eol_content_id</th>\n",
       "      <th>eol_page_id</th>\n",
       "      <th>kingdom</th>\n",
       "      <th>phylum</th>\n",
       "      <th>family</th>\n",
       "      <th>file_path</th>\n",
       "    </tr>\n",
       "  </thead>\n",
       "  <tbody>\n",
       "    <tr>\n",
       "      <th>0</th>\n",
       "      <td>75fd91cb-2881-41cd-88e6-de451e8b60e2</td>\n",
       "      <td>12853737</td>\n",
       "      <td>449393</td>\n",
       "      <td>animalia</td>\n",
       "      <td>mollusca</td>\n",
       "      <td>unionidae</td>\n",
       "      <td>mollusca_unionidae/12853737_449393_eol-full-si...</td>\n",
       "    </tr>\n",
       "    <tr>\n",
       "      <th>1</th>\n",
       "      <td>28c508bc-63ff-4e60-9c8f-1934367e1528</td>\n",
       "      <td>20969394</td>\n",
       "      <td>793083</td>\n",
       "      <td>animalia</td>\n",
       "      <td>chordata</td>\n",
       "      <td>geoemydidae</td>\n",
       "      <td>chordata_geoemydidae/20969394_793083_eol-full-...</td>\n",
       "    </tr>\n",
       "    <tr>\n",
       "      <th>2</th>\n",
       "      <td>00372441-588c-4af8-9665-29bee20822c0</td>\n",
       "      <td>28895411</td>\n",
       "      <td>319982</td>\n",
       "      <td>animalia</td>\n",
       "      <td>chordata</td>\n",
       "      <td>cryptobranchidae</td>\n",
       "      <td>chordata_cryptobranchidae/28895411_319982_eol-...</td>\n",
       "    </tr>\n",
       "    <tr>\n",
       "      <th>3</th>\n",
       "      <td>29cc6040-6af2-49ee-86ec-ab7d89793828</td>\n",
       "      <td>29658536</td>\n",
       "      <td>45510188</td>\n",
       "      <td>animalia</td>\n",
       "      <td>chordata</td>\n",
       "      <td>turdidae</td>\n",
       "      <td>chordata_turdidae/29658536_45510188_eol-full-s...</td>\n",
       "    </tr>\n",
       "    <tr>\n",
       "      <th>4</th>\n",
       "      <td>94004bff-3a33-4758-8125-bf72e6e57eab</td>\n",
       "      <td>21252576</td>\n",
       "      <td>7250886</td>\n",
       "      <td>animalia</td>\n",
       "      <td>chordata</td>\n",
       "      <td>indriidae</td>\n",
       "      <td>chordata_indriidae/21252576_7250886_eol-full-s...</td>\n",
       "    </tr>\n",
       "  </tbody>\n",
       "</table>\n",
       "</div>"
      ],
      "text/plain": [
       "                        rare_species_id  eol_content_id  eol_page_id  \\\n",
       "0  75fd91cb-2881-41cd-88e6-de451e8b60e2        12853737       449393   \n",
       "1  28c508bc-63ff-4e60-9c8f-1934367e1528        20969394       793083   \n",
       "2  00372441-588c-4af8-9665-29bee20822c0        28895411       319982   \n",
       "3  29cc6040-6af2-49ee-86ec-ab7d89793828        29658536     45510188   \n",
       "4  94004bff-3a33-4758-8125-bf72e6e57eab        21252576      7250886   \n",
       "\n",
       "    kingdom    phylum            family  \\\n",
       "0  animalia  mollusca         unionidae   \n",
       "1  animalia  chordata       geoemydidae   \n",
       "2  animalia  chordata  cryptobranchidae   \n",
       "3  animalia  chordata          turdidae   \n",
       "4  animalia  chordata         indriidae   \n",
       "\n",
       "                                           file_path  \n",
       "0  mollusca_unionidae/12853737_449393_eol-full-si...  \n",
       "1  chordata_geoemydidae/20969394_793083_eol-full-...  \n",
       "2  chordata_cryptobranchidae/28895411_319982_eol-...  \n",
       "3  chordata_turdidae/29658536_45510188_eol-full-s...  \n",
       "4  chordata_indriidae/21252576_7250886_eol-full-s...  "
      ]
     },
     "execution_count": 85,
     "metadata": {},
     "output_type": "execute_result"
    }
   ],
   "source": [
    "path = '../Data/rare_species 1'\n",
    "import pandas as pd\n",
    "df = pd.read_csv(path + '/metadata.csv')\n",
    "df.head()"
   ]
  },
  {
   "cell_type": "code",
   "execution_count": 86,
   "metadata": {},
   "outputs": [
    {
     "name": "stdout",
     "output_type": "stream",
     "text": [
      "<class 'pandas.core.frame.DataFrame'>\n",
      "RangeIndex: 11983 entries, 0 to 11982\n",
      "Data columns (total 7 columns):\n",
      " #   Column           Non-Null Count  Dtype \n",
      "---  ------           --------------  ----- \n",
      " 0   rare_species_id  11983 non-null  object\n",
      " 1   eol_content_id   11983 non-null  int64 \n",
      " 2   eol_page_id      11983 non-null  int64 \n",
      " 3   kingdom          11983 non-null  object\n",
      " 4   phylum           11983 non-null  object\n",
      " 5   family           11983 non-null  object\n",
      " 6   file_path        11983 non-null  object\n",
      "dtypes: int64(2), object(5)\n",
      "memory usage: 655.4+ KB\n"
     ]
    }
   ],
   "source": [
    "df.info()"
   ]
  },
  {
   "cell_type": "code",
   "execution_count": 87,
   "metadata": {},
   "outputs": [
    {
     "name": "stdout",
     "output_type": "stream",
     "text": [
      "**************************************************\n",
      "kingdom\n",
      "kingdom\n",
      "animalia    1.0\n",
      "Name: proportion, dtype: float64\n",
      "max: 1.0\n",
      "min: 1.0\n",
      "**************************************************\n",
      "**************************************************\n",
      "phylum\n",
      "phylum\n",
      "chordata         0.830510\n",
      "arthropoda       0.079362\n",
      "cnidaria         0.067596\n",
      "mollusca         0.017525\n",
      "echinodermata    0.005007\n",
      "Name: proportion, dtype: float64\n",
      "max: 0.83050988900943\n",
      "min: 0.00500709338229158\n",
      "**************************************************\n",
      "**************************************************\n",
      "family\n",
      "family\n",
      "cercopithecidae      0.025035\n",
      "dactyloidae          0.025035\n",
      "formicidae           0.024284\n",
      "plethodontidae       0.022532\n",
      "carcharhinidae       0.022532\n",
      "                       ...   \n",
      "megapodiidae         0.002504\n",
      "tropiduridae         0.002504\n",
      "parulidae            0.002504\n",
      "brachypteraciidae    0.002504\n",
      "siluridae            0.002420\n",
      "Name: proportion, Length: 202, dtype: float64\n",
      "max: 0.025035466911457898\n",
      "min: 0.0024200951347742635\n",
      "**************************************************\n"
     ]
    }
   ],
   "source": [
    "for col in df.columns[3:-1]:\n",
    "    print('*'*50)\n",
    "    print(col)\n",
    "    print(f\"{df[col].value_counts(normalize=True)}\")\n",
    "    print(f'max: {df[col].value_counts(normalize=True).max()}')\n",
    "    print(f'min: {df[col].value_counts(normalize=True).min()}')\n",
    "    print('*'*50)\n"
   ]
  },
  {
   "cell_type": "markdown",
   "metadata": {},
   "source": [
    "the dataset contains 7 columns:\n",
    "\n",
    "- 'rare_species_id': the id and it's cardinality is the length of the dataset\n",
    "- 'eol_content_id': reference to the species in the Encyclopedia of Life (EOL) -----> maybe good for image quality inference (?)\n",
    "- 'eol_page_id': reference to the species in the Encyclopedia of Life (EOL) -----> maybe good for image quality inference (?)\n",
    "- kingdom: the kingdom of the species -----> useless the kingdom is the same for all the species (animalia)\n",
    "- phylum: the phylum of the species -----> HUGE fucking class imbalance (chordata: 83%, arthropoda: 8%, cnidaria: 7%, others: 2%)\n",
    "- family: the family of the species -----> it's the target variable\n",
    "- file_path: the path to the image of the species"
   ]
  },
  {
   "cell_type": "markdown",
   "metadata": {},
   "source": [
    "# Image exploration"
   ]
  },
  {
   "cell_type": "markdown",
   "metadata": {},
   "source": [
    "## check that all the images are the same size\n"
   ]
  },
  {
   "cell_type": "code",
   "execution_count": 88,
   "metadata": {},
   "outputs": [
    {
     "name": "stderr",
     "output_type": "stream",
     "text": [
      "/opt/anaconda3/envs/DL_env/lib/python3.12/site-packages/PIL/Image.py:3368: DecompressionBombWarning: Image size (115600000 pixels) exceeds limit of 89478485 pixels, could be decompression bomb DOS attack.\n",
      "  warnings.warn(\n"
     ]
    },
    {
     "name": "stdout",
     "output_type": "stream",
     "text": [
      "Max: [17000  8688]\n",
      "Min: [170 125]\n",
      "Mean: [1924.60093466 1512.2602854 ]\n",
      "Std: [1267.52242368  951.29047938]\n"
     ]
    }
   ],
   "source": [
    "from PIL import Image\n",
    "import numpy as np\n",
    "\n",
    "sizes = []\n",
    "path = '../Data/rare_species 1'\n",
    "\n",
    "for img_path in df['file_path']:\n",
    "    imagepath = path + '/' + img_path\n",
    "    img = Image.open(imagepath)\n",
    "    sizes.append(img.size)\n",
    "    img.close()\n",
    "    \n",
    "\n",
    "sizes = np.array(sizes)\n",
    "# distribution of image sizes\n",
    "print(f\"Max: {sizes.max(axis=0)}\")\n",
    "print(f\"Min: {sizes.min(axis=0)}\")\n",
    "print(f\"Mean: {sizes.mean(axis=0)}\")\n",
    "print(f\"Std: {sizes.std(axis=0)}\")"
   ]
  },
  {
   "cell_type": "code",
   "execution_count": 89,
   "metadata": {},
   "outputs": [],
   "source": [
    "imagepath = path + '/' + df['file_path'][0]\n",
    "\n",
    "imagepath\n",
    "\n",
    "# open the image at imagepath\n",
    "from PIL import Image\n",
    "img = Image.open(imagepath)\n",
    "img.show() "
   ]
  },
  {
   "cell_type": "code",
   "execution_count": 90,
   "metadata": {},
   "outputs": [
    {
     "name": "stdout",
     "output_type": "stream",
     "text": [
      "Image Type: <class 'PIL.Image.Image'>\n",
      "Image shape: (224, 224)\n",
      "--------------------------------------------------\n",
      "Image Type: <class 'numpy.ndarray'>\n",
      "Image shape: (224, 224, 3)\n",
      "Image max: 255.0\n",
      "Image min: 0.0\n",
      "Image mean: 101.19913482666016\n",
      "Image std: 37.6596565246582\n",
      "--------------------------------------------------\n",
      "Image Type: <class 'numpy.ndarray'>\n",
      "Image shape: (1, 224, 224, 3)\n",
      "Image max: 255.0\n",
      "Image min: 0.0\n",
      "Image mean: 101.19913482666016\n",
      "Image std: 37.6596565246582\n",
      "--------------------------------------------------\n",
      "Image Type: <class 'numpy.ndarray'>\n",
      "Image shape: (1, 224, 224, 3)\n",
      "Image max: 151.06100463867188\n",
      "Image min: -123.68000030517578\n",
      "Image mean: -13.600198745727539\n",
      "Image std: 36.666568756103516\n",
      "--------------------------------------------------\n"
     ]
    }
   ],
   "source": [
    "# preprocessing the image for the model using keras\n",
    "from keras.preprocessing import image \n",
    "from keras.applications.vgg16 import preprocess_input\n",
    "import numpy as np\n",
    "\n",
    "img = image.load_img(imagepath, target_size=(224, 224))\n",
    "print(f\"Image Type: {type(img)}\")\n",
    "print(f\"Image shape: {img.size}\")\n",
    "print(\"-\"*50)\n",
    "\n",
    "# convert image to numpy array\n",
    "\n",
    "img_array = image.img_to_array(img)\n",
    "print(f\"Image Type: {type(img_array)}\")\n",
    "print(f\"Image shape: {img_array.shape}\")\n",
    "print(f\"Image max: {img_array.max()}\")\n",
    "print(f\"Image min: {img_array.min()}\")\n",
    "print(f\"Image mean: {img_array.mean()}\")\n",
    "print(f\"Image std: {img_array.std()}\")\n",
    "print(\"-\"*50)\n",
    "\n",
    "# expand the dimensions of the image for later aggregation\n",
    "\n",
    "img_array = np.expand_dims(img_array, axis=0)\n",
    "print(f\"Image Type: {type(img_array)}\")\n",
    "print(f\"Image shape: {img_array.shape}\")\n",
    "print(f\"Image max: {img_array.max()}\")\n",
    "print(f\"Image min: {img_array.min()}\")\n",
    "print(f\"Image mean: {img_array.mean()}\")\n",
    "print(f\"Image std: {img_array.std()}\")\n",
    "print(\"-\"*50)\n",
    "\n",
    "# center the image around zero\n",
    "\n",
    "img_array = preprocess_input(img_array)\n",
    "print(f\"Image Type: {type(img_array)}\")\n",
    "print(f\"Image shape: {img_array.shape}\")\n",
    "print(f\"Image max: {img_array.max()}\")\n",
    "print(f\"Image min: {img_array.min()}\")\n",
    "print(f\"Image mean: {img_array.mean()}\")\n",
    "print(f\"Image std: {img_array.std()}\")\n",
    "print(\"-\"*50)"
   ]
  },
  {
   "cell_type": "markdown",
   "metadata": {},
   "source": [
    "# create the target\n",
    "\n"
   ]
  },
  {
   "cell_type": "markdown",
   "metadata": {},
   "source": [
    "## create the outoput space\n",
    "- an n dimensional space where n is the number of species\n",
    "- an m dimensional spache where m is the number of families"
   ]
  },
  {
   "cell_type": "code",
   "execution_count": 91,
   "metadata": {},
   "outputs": [
    {
     "name": "stdout",
     "output_type": "stream",
     "text": [
      "phylum\n",
      "chordata         9952\n",
      "arthropoda        951\n",
      "cnidaria          810\n",
      "mollusca          210\n",
      "echinodermata      60\n",
      "Name: count, dtype: int64\n",
      "family\n",
      "cercopithecidae      300\n",
      "dactyloidae          300\n",
      "formicidae           291\n",
      "plethodontidae       270\n",
      "carcharhinidae       270\n",
      "                    ... \n",
      "megapodiidae          30\n",
      "tropiduridae          30\n",
      "parulidae             30\n",
      "brachypteraciidae     30\n",
      "siluridae             29\n",
      "Name: count, Length: 202, dtype: int64\n"
     ]
    }
   ],
   "source": [
    "print (df['phylum'].value_counts())\n",
    "\n",
    "phylum = df['phylum'].unique()\n",
    "n_classes_phylum = len(phylum)\n",
    "\n",
    "print (df['family'].value_counts())\n",
    "\n",
    "family = df['family'].unique()\n",
    "n_classes_species = len(family)\n",
    "\n",
    "\n"
   ]
  },
  {
   "cell_type": "code",
   "execution_count": 92,
   "metadata": {},
   "outputs": [
    {
     "name": "stdout",
     "output_type": "stream",
     "text": [
      "202\n",
      "5\n"
     ]
    }
   ],
   "source": [
    "print (n_classes_species)\n",
    "print (n_classes_phylum)"
   ]
  },
  {
   "cell_type": "code",
   "execution_count": 93,
   "metadata": {},
   "outputs": [],
   "source": [
    "from keras.utils import to_categorical\n",
    "\n",
    "phylum_dict = {phylum[i]:i for i in range(n_classes_phylum)}\n",
    "family_dict = {family[i]:i for i in range(n_classes_species)}\n",
    "\n",
    "y_phylum = df['phylum'].map(phylum_dict)\n",
    "y_family = df['family'].map(family_dict)\n",
    "\n",
    "y_phylum = to_categorical(y_phylum, num_classes=n_classes_phylum)\n",
    "y_family = to_categorical(y_family, num_classes=n_classes_species)"
   ]
  },
  {
   "cell_type": "code",
   "execution_count": 94,
   "metadata": {},
   "outputs": [
    {
     "data": {
      "application/vnd.microsoft.datawrangler.viewer.v0+json": {
       "columns": [
        {
         "name": "index",
         "rawType": "int64",
         "type": "integer"
        },
        {
         "name": "phylum",
         "rawType": "object",
         "type": "unknown"
        },
        {
         "name": "family",
         "rawType": "object",
         "type": "unknown"
        },
        {
         "name": "file_path",
         "rawType": "object",
         "type": "string"
        },
        {
         "name": "is_cordata",
         "rawType": "int64",
         "type": "integer"
        }
       ],
       "conversionMethod": "pd.DataFrame",
       "ref": "7b6b26d4-c43e-43a8-a45d-50de3be64dbf",
       "rows": [
        [
         "0",
         "[1. 0. 0. 0. 0.]",
         "[1. 0. 0. 0. 0. 0. 0. 0. 0. 0. 0. 0. 0. 0. 0. 0. 0. 0. 0. 0. 0. 0. 0. 0.\n 0. 0. 0. 0. 0. 0. 0. 0. 0. 0. 0. 0. 0. 0. 0. 0. 0. 0. 0. 0. 0. 0. 0. 0.\n 0. 0. 0. 0. 0. 0. 0. 0. 0. 0. 0. 0. 0. 0. 0. 0. 0. 0. 0. 0. 0. 0. 0. 0.\n 0. 0. 0. 0. 0. 0. 0. 0. 0. 0. 0. 0. 0. 0. 0. 0. 0. 0. 0. 0. 0. 0. 0. 0.\n 0. 0. 0. 0. 0. 0. 0. 0. 0. 0. 0. 0. 0. 0. 0. 0. 0. 0. 0. 0. 0. 0. 0. 0.\n 0. 0. 0. 0. 0. 0. 0. 0. 0. 0. 0. 0. 0. 0. 0. 0. 0. 0. 0. 0. 0. 0. 0. 0.\n 0. 0. 0. 0. 0. 0. 0. 0. 0. 0. 0. 0. 0. 0. 0. 0. 0. 0. 0. 0. 0. 0. 0. 0.\n 0. 0. 0. 0. 0. 0. 0. 0. 0. 0. 0. 0. 0. 0. 0. 0. 0. 0. 0. 0. 0. 0. 0. 0.\n 0. 0. 0. 0. 0. 0. 0. 0. 0. 0.]",
         "mollusca_unionidae/12853737_449393_eol-full-size-copy.jpg",
         "1"
        ],
        [
         "1",
         "[0. 1. 0. 0. 0.]",
         "[0. 1. 0. 0. 0. 0. 0. 0. 0. 0. 0. 0. 0. 0. 0. 0. 0. 0. 0. 0. 0. 0. 0. 0.\n 0. 0. 0. 0. 0. 0. 0. 0. 0. 0. 0. 0. 0. 0. 0. 0. 0. 0. 0. 0. 0. 0. 0. 0.\n 0. 0. 0. 0. 0. 0. 0. 0. 0. 0. 0. 0. 0. 0. 0. 0. 0. 0. 0. 0. 0. 0. 0. 0.\n 0. 0. 0. 0. 0. 0. 0. 0. 0. 0. 0. 0. 0. 0. 0. 0. 0. 0. 0. 0. 0. 0. 0. 0.\n 0. 0. 0. 0. 0. 0. 0. 0. 0. 0. 0. 0. 0. 0. 0. 0. 0. 0. 0. 0. 0. 0. 0. 0.\n 0. 0. 0. 0. 0. 0. 0. 0. 0. 0. 0. 0. 0. 0. 0. 0. 0. 0. 0. 0. 0. 0. 0. 0.\n 0. 0. 0. 0. 0. 0. 0. 0. 0. 0. 0. 0. 0. 0. 0. 0. 0. 0. 0. 0. 0. 0. 0. 0.\n 0. 0. 0. 0. 0. 0. 0. 0. 0. 0. 0. 0. 0. 0. 0. 0. 0. 0. 0. 0. 0. 0. 0. 0.\n 0. 0. 0. 0. 0. 0. 0. 0. 0. 0.]",
         "chordata_geoemydidae/20969394_793083_eol-full-size-copy.jpg",
         "0"
        ],
        [
         "2",
         "[0. 1. 0. 0. 0.]",
         "[0. 0. 1. 0. 0. 0. 0. 0. 0. 0. 0. 0. 0. 0. 0. 0. 0. 0. 0. 0. 0. 0. 0. 0.\n 0. 0. 0. 0. 0. 0. 0. 0. 0. 0. 0. 0. 0. 0. 0. 0. 0. 0. 0. 0. 0. 0. 0. 0.\n 0. 0. 0. 0. 0. 0. 0. 0. 0. 0. 0. 0. 0. 0. 0. 0. 0. 0. 0. 0. 0. 0. 0. 0.\n 0. 0. 0. 0. 0. 0. 0. 0. 0. 0. 0. 0. 0. 0. 0. 0. 0. 0. 0. 0. 0. 0. 0. 0.\n 0. 0. 0. 0. 0. 0. 0. 0. 0. 0. 0. 0. 0. 0. 0. 0. 0. 0. 0. 0. 0. 0. 0. 0.\n 0. 0. 0. 0. 0. 0. 0. 0. 0. 0. 0. 0. 0. 0. 0. 0. 0. 0. 0. 0. 0. 0. 0. 0.\n 0. 0. 0. 0. 0. 0. 0. 0. 0. 0. 0. 0. 0. 0. 0. 0. 0. 0. 0. 0. 0. 0. 0. 0.\n 0. 0. 0. 0. 0. 0. 0. 0. 0. 0. 0. 0. 0. 0. 0. 0. 0. 0. 0. 0. 0. 0. 0. 0.\n 0. 0. 0. 0. 0. 0. 0. 0. 0. 0.]",
         "chordata_cryptobranchidae/28895411_319982_eol-full-size-copy.jpg",
         "0"
        ],
        [
         "3",
         "[0. 1. 0. 0. 0.]",
         "[0. 0. 0. 1. 0. 0. 0. 0. 0. 0. 0. 0. 0. 0. 0. 0. 0. 0. 0. 0. 0. 0. 0. 0.\n 0. 0. 0. 0. 0. 0. 0. 0. 0. 0. 0. 0. 0. 0. 0. 0. 0. 0. 0. 0. 0. 0. 0. 0.\n 0. 0. 0. 0. 0. 0. 0. 0. 0. 0. 0. 0. 0. 0. 0. 0. 0. 0. 0. 0. 0. 0. 0. 0.\n 0. 0. 0. 0. 0. 0. 0. 0. 0. 0. 0. 0. 0. 0. 0. 0. 0. 0. 0. 0. 0. 0. 0. 0.\n 0. 0. 0. 0. 0. 0. 0. 0. 0. 0. 0. 0. 0. 0. 0. 0. 0. 0. 0. 0. 0. 0. 0. 0.\n 0. 0. 0. 0. 0. 0. 0. 0. 0. 0. 0. 0. 0. 0. 0. 0. 0. 0. 0. 0. 0. 0. 0. 0.\n 0. 0. 0. 0. 0. 0. 0. 0. 0. 0. 0. 0. 0. 0. 0. 0. 0. 0. 0. 0. 0. 0. 0. 0.\n 0. 0. 0. 0. 0. 0. 0. 0. 0. 0. 0. 0. 0. 0. 0. 0. 0. 0. 0. 0. 0. 0. 0. 0.\n 0. 0. 0. 0. 0. 0. 0. 0. 0. 0.]",
         "chordata_turdidae/29658536_45510188_eol-full-size-copy.jpg",
         "0"
        ],
        [
         "4",
         "[0. 1. 0. 0. 0.]",
         "[0. 0. 0. 0. 1. 0. 0. 0. 0. 0. 0. 0. 0. 0. 0. 0. 0. 0. 0. 0. 0. 0. 0. 0.\n 0. 0. 0. 0. 0. 0. 0. 0. 0. 0. 0. 0. 0. 0. 0. 0. 0. 0. 0. 0. 0. 0. 0. 0.\n 0. 0. 0. 0. 0. 0. 0. 0. 0. 0. 0. 0. 0. 0. 0. 0. 0. 0. 0. 0. 0. 0. 0. 0.\n 0. 0. 0. 0. 0. 0. 0. 0. 0. 0. 0. 0. 0. 0. 0. 0. 0. 0. 0. 0. 0. 0. 0. 0.\n 0. 0. 0. 0. 0. 0. 0. 0. 0. 0. 0. 0. 0. 0. 0. 0. 0. 0. 0. 0. 0. 0. 0. 0.\n 0. 0. 0. 0. 0. 0. 0. 0. 0. 0. 0. 0. 0. 0. 0. 0. 0. 0. 0. 0. 0. 0. 0. 0.\n 0. 0. 0. 0. 0. 0. 0. 0. 0. 0. 0. 0. 0. 0. 0. 0. 0. 0. 0. 0. 0. 0. 0. 0.\n 0. 0. 0. 0. 0. 0. 0. 0. 0. 0. 0. 0. 0. 0. 0. 0. 0. 0. 0. 0. 0. 0. 0. 0.\n 0. 0. 0. 0. 0. 0. 0. 0. 0. 0.]",
         "chordata_indriidae/21252576_7250886_eol-full-size-copy.jpg",
         "0"
        ]
       ],
       "shape": {
        "columns": 4,
        "rows": 5
       }
      },
      "text/html": [
       "<div>\n",
       "<style scoped>\n",
       "    .dataframe tbody tr th:only-of-type {\n",
       "        vertical-align: middle;\n",
       "    }\n",
       "\n",
       "    .dataframe tbody tr th {\n",
       "        vertical-align: top;\n",
       "    }\n",
       "\n",
       "    .dataframe thead th {\n",
       "        text-align: right;\n",
       "    }\n",
       "</style>\n",
       "<table border=\"1\" class=\"dataframe\">\n",
       "  <thead>\n",
       "    <tr style=\"text-align: right;\">\n",
       "      <th></th>\n",
       "      <th>phylum</th>\n",
       "      <th>family</th>\n",
       "      <th>file_path</th>\n",
       "      <th>is_cordata</th>\n",
       "    </tr>\n",
       "  </thead>\n",
       "  <tbody>\n",
       "    <tr>\n",
       "      <th>0</th>\n",
       "      <td>[1.0, 0.0, 0.0, 0.0, 0.0]</td>\n",
       "      <td>[1.0, 0.0, 0.0, 0.0, 0.0, 0.0, 0.0, 0.0, 0.0, ...</td>\n",
       "      <td>mollusca_unionidae/12853737_449393_eol-full-si...</td>\n",
       "      <td>1</td>\n",
       "    </tr>\n",
       "    <tr>\n",
       "      <th>1</th>\n",
       "      <td>[0.0, 1.0, 0.0, 0.0, 0.0]</td>\n",
       "      <td>[0.0, 1.0, 0.0, 0.0, 0.0, 0.0, 0.0, 0.0, 0.0, ...</td>\n",
       "      <td>chordata_geoemydidae/20969394_793083_eol-full-...</td>\n",
       "      <td>0</td>\n",
       "    </tr>\n",
       "    <tr>\n",
       "      <th>2</th>\n",
       "      <td>[0.0, 1.0, 0.0, 0.0, 0.0]</td>\n",
       "      <td>[0.0, 0.0, 1.0, 0.0, 0.0, 0.0, 0.0, 0.0, 0.0, ...</td>\n",
       "      <td>chordata_cryptobranchidae/28895411_319982_eol-...</td>\n",
       "      <td>0</td>\n",
       "    </tr>\n",
       "    <tr>\n",
       "      <th>3</th>\n",
       "      <td>[0.0, 1.0, 0.0, 0.0, 0.0]</td>\n",
       "      <td>[0.0, 0.0, 0.0, 1.0, 0.0, 0.0, 0.0, 0.0, 0.0, ...</td>\n",
       "      <td>chordata_turdidae/29658536_45510188_eol-full-s...</td>\n",
       "      <td>0</td>\n",
       "    </tr>\n",
       "    <tr>\n",
       "      <th>4</th>\n",
       "      <td>[0.0, 1.0, 0.0, 0.0, 0.0]</td>\n",
       "      <td>[0.0, 0.0, 0.0, 0.0, 1.0, 0.0, 0.0, 0.0, 0.0, ...</td>\n",
       "      <td>chordata_indriidae/21252576_7250886_eol-full-s...</td>\n",
       "      <td>0</td>\n",
       "    </tr>\n",
       "  </tbody>\n",
       "</table>\n",
       "</div>"
      ],
      "text/plain": [
       "                      phylum  \\\n",
       "0  [1.0, 0.0, 0.0, 0.0, 0.0]   \n",
       "1  [0.0, 1.0, 0.0, 0.0, 0.0]   \n",
       "2  [0.0, 1.0, 0.0, 0.0, 0.0]   \n",
       "3  [0.0, 1.0, 0.0, 0.0, 0.0]   \n",
       "4  [0.0, 1.0, 0.0, 0.0, 0.0]   \n",
       "\n",
       "                                              family  \\\n",
       "0  [1.0, 0.0, 0.0, 0.0, 0.0, 0.0, 0.0, 0.0, 0.0, ...   \n",
       "1  [0.0, 1.0, 0.0, 0.0, 0.0, 0.0, 0.0, 0.0, 0.0, ...   \n",
       "2  [0.0, 0.0, 1.0, 0.0, 0.0, 0.0, 0.0, 0.0, 0.0, ...   \n",
       "3  [0.0, 0.0, 0.0, 1.0, 0.0, 0.0, 0.0, 0.0, 0.0, ...   \n",
       "4  [0.0, 0.0, 0.0, 0.0, 1.0, 0.0, 0.0, 0.0, 0.0, ...   \n",
       "\n",
       "                                           file_path  is_cordata  \n",
       "0  mollusca_unionidae/12853737_449393_eol-full-si...           1  \n",
       "1  chordata_geoemydidae/20969394_793083_eol-full-...           0  \n",
       "2  chordata_cryptobranchidae/28895411_319982_eol-...           0  \n",
       "3  chordata_turdidae/29658536_45510188_eol-full-s...           0  \n",
       "4  chordata_indriidae/21252576_7250886_eol-full-s...           0  "
      ]
     },
     "execution_count": 94,
     "metadata": {},
     "output_type": "execute_result"
    }
   ],
   "source": [
    "dict_data = {}\n",
    "for index,id in enumerate(df['rare_species_id']):\n",
    "    dict_data[index] = {'phylum':y_phylum[index], 'family':y_family[index], 'file_path':df['file_path'][index]}\n",
    "    \n",
    "df_dict = pd.DataFrame.from_dict(dict_data, orient='index')\n",
    "df_dict.rename(columns={'index':'new_id'}, inplace=True)\n",
    "df_dict.head()\n",
    "\n",
    "df_dict['is_cordata'] = df_dict['phylum'].apply(lambda x: 1 if x[0] == 1 else 0)\n",
    "df_dict.head()\n",
    "    \n"
   ]
  },
  {
   "cell_type": "markdown",
   "metadata": {},
   "source": [
    "# Preprocessing"
   ]
  },
  {
   "cell_type": "code",
   "execution_count": 100,
   "metadata": {},
   "outputs": [
    {
     "name": "stdout",
     "output_type": "stream",
     "text": [
      "Image shape: (1596, 1066, 3)\n",
      "Image dtype: <dtype: 'float32'>\n"
     ]
    }
   ],
   "source": [
    "import tensorflow as tf\n",
    "\n",
    "def preprocess_image(image_path, target_size=(1596, 1066)):\n",
    "    \"\"\"\n",
    "    Preprocesses an image by resizing it to the target size.\n",
    "\n",
    "    Args:\n",
    "        image_path (str): Path to the image file.\n",
    "        target_size (tuple): Desired dimensions (height, width) for resizing.\n",
    "\n",
    "    Returns:\n",
    "        tf.Tensor: Resized image tensor.\n",
    "    \"\"\"\n",
    "    img = tf.keras.preprocessing.image.load_img(image_path)\n",
    "    \n",
    "    img_array = tf.keras.preprocessing.image.img_to_array(img)\n",
    "    \n",
    "    resized_img = tf.image.resize(img_array, target_size)\n",
    "    \n",
    "    resized_img = resized_img / 255.0\n",
    "    \n",
    "    # in this part we will add some better preprocessing steps (open for suggestions)\n",
    "    \n",
    "    return resized_img\n",
    "\n",
    "# Test the function with an image\n",
    "preprocessed_img = preprocess_image(imagepath)\n",
    "print(f\"Image shape: {preprocessed_img.shape}\")\n",
    "print(f\"Image dtype: {preprocessed_img.dtype}\")\n",
    "\n",
    "\n"
   ]
  },
  {
   "cell_type": "code",
   "execution_count": 99,
   "metadata": {},
   "outputs": [
    {
     "name": "stdout",
     "output_type": "stream",
     "text": [
      "Original image shape: (400, 400)\n",
      "Preprocessed image shape: (1596, 1066, 3)\n",
      "--------------------------------------------------\n",
      "Original image shape: (1596, 1066)\n",
      "Preprocessed image shape: (1596, 1066, 3)\n",
      "--------------------------------------------------\n",
      "Original image shape: (2480, 1396)\n",
      "Preprocessed image shape: (1596, 1066, 3)\n",
      "--------------------------------------------------\n",
      "Original image shape: (1554, 2019)\n",
      "Preprocessed image shape: (1596, 1066, 3)\n",
      "--------------------------------------------------\n",
      "Original image shape: (1365, 2048)\n",
      "Preprocessed image shape: (1596, 1066, 3)\n",
      "--------------------------------------------------\n",
      "Original image shape: (1000, 795)\n",
      "Preprocessed image shape: (1596, 1066, 3)\n",
      "--------------------------------------------------\n",
      "Original image shape: (2592, 3456)\n",
      "Preprocessed image shape: (1596, 1066, 3)\n",
      "--------------------------------------------------\n",
      "Original image shape: (2048, 1536)\n",
      "Preprocessed image shape: (1596, 1066, 3)\n",
      "--------------------------------------------------\n",
      "Original image shape: (2048, 1536)\n",
      "Preprocessed image shape: (1596, 1066, 3)\n",
      "--------------------------------------------------\n",
      "Original image shape: (2048, 1525)\n",
      "Preprocessed image shape: (1596, 1066, 3)\n",
      "--------------------------------------------------\n"
     ]
    }
   ],
   "source": [
    "for i in range(10):\n",
    "    img = Image.open(path + '/' +\n",
    "                     df['file_path'][i])\n",
    "    preprocessed_img = preprocess_image(path + '/' +\n",
    "                                        df['file_path'][i])\n",
    "    print(f\"Original image shape: {img.size}\")\n",
    "    print(f\"Preprocessed image shape: {preprocessed_img.shape}\")\n",
    "    print(\"-\"*50)\n",
    "    img.close()\n"
   ]
  },
  {
   "cell_type": "code",
   "execution_count": 68,
   "metadata": {},
   "outputs": [
    {
     "data": {
      "text/plain": [
       "((9586,), (2397,), (9586, 3), (2397, 3))"
      ]
     },
     "execution_count": 68,
     "metadata": {},
     "output_type": "execute_result"
    }
   ],
   "source": [
    "# split the data into training and testing\n",
    "from sklearn.model_selection import train_test_split\n",
    "X_train, X_test, y_train, y_test = train_test_split(df_dict['file_path'], df_dict[['phylum', 'family','is_cordata']], test_size=0.2, random_state=42)\n",
    "X_train.shape, X_test.shape, y_train.shape, y_test.shape"
   ]
  },
  {
   "cell_type": "markdown",
   "metadata": {},
   "source": [
    "# first model\n",
    "- use the image as input\n",
    "- predic is_cordata\n",
    "\n"
   ]
  },
  {
   "cell_type": "code",
   "execution_count": null,
   "metadata": {},
   "outputs": [],
   "source": [
    "from keras import Model, Sequential, Input\n",
    "\n",
    "from keras.layers import Conv2D, MaxPooling2D, Flatten, Dense\n",
    "from keras.layers import LeakyReLU\n",
    "from keras.ops import add\n",
    "from keras.utils import to_categorical"
   ]
  },
  {
   "cell_type": "code",
   "execution_count": null,
   "metadata": {},
   "outputs": [],
   "source": [
    "# by calling Sequential:\n",
    "input_shape = (224, 224, 3)\n",
    "\n",
    "model = Sequential(\n",
    "    layers = [\n",
    "        Input(shape=input_shape),\n",
    "        Conv2D(filters=3 * 8, kernel_size=(3, 3), activation=\"relu\"),\n",
    "        MaxPooling2D(pool_size=(2, 2)),\n",
    "        Conv2D(filters=3 * 16, kernel_size=(3, 3), activation=\"relu\"),\n",
    "        MaxPooling2D(pool_size=(2, 2)),\n",
    "        Flatten(),\n",
    "        # input size is infered\n",
    "        Dense(n_classes, activation=\"softmax\"),\n",
    "    ],\n",
    "    name = \"my_tiny_sequential_cnn\"\n",
    ")\n",
    "\n",
    "model.summary()"
   ]
  },
  {
   "cell_type": "code",
   "execution_count": null,
   "metadata": {},
   "outputs": [],
   "source": [
    "from keras.preprocessing.image import ImageDataGenerator\n",
    "\n",
    "def get_my_tiny_functional_cnn() -> Model:\n",
    "    \"\"\"\n",
    "    Constructs \"my_tiny_functional_cnn\"\n",
    "    \"\"\"\n",
    "\n",
    "    conv_layer_1 = Conv2D(\n",
    "        filters=3 * 8,\n",
    "        kernel_size=(3, 3),\n",
    "        activation=\"relu\",\n",
    "        name=\"conv_layer_1\"\n",
    "    )\n",
    "    max_pool_layer_1 = MaxPooling2D(pool_size=(2, 2), name=\"max_pool_layer_1\")\n",
    "\n",
    "    conv_layer_2 = Conv2D(\n",
    "        filters=3 * 16,\n",
    "        kernel_size=(3, 3),\n",
    "        name=\"conv_layer_2\"\n",
    "    )\n",
    "    act_layer_2 = LeakyReLU(negative_slope=0.3, name=\"act_layer_2\")\n",
    "    max_pool_layer_2 = MaxPooling2D(pool_size=(2, 2), name=\"max_pool_layer_2\")\n",
    "\n",
    "    flatten_layer = Flatten(name=\"flatten_layer\")\n",
    "    dense_layer = Dense(\n",
    "        n_classes,\n",
    "        activation=\"softmax\",\n",
    "        name=\"classification_head\"\n",
    "    )\n",
    "\n",
    "\n",
    "    inputs = Input(shape=input_shape)\n",
    "    x = inputs\n",
    "\n",
    "    x = conv_layer_1(x)\n",
    "    x = max_pool_layer_1(x)\n",
    "\n",
    "    x = conv_layer_2(x)\n",
    "    x = act_layer_2(x)\n",
    "    x = max_pool_layer_2(x)\n",
    "\n",
    "    x = flatten_layer(x)\n",
    "    x = dense_layer(x)\n",
    "\n",
    "    outputs = x\n",
    "\n",
    "    return Model(inputs=inputs, outputs=outputs, name=\"my_tiny_functional_cnn\")"
   ]
  }
 ],
 "metadata": {
  "kernelspec": {
   "display_name": "DL_env",
   "language": "python",
   "name": "python3"
  },
  "language_info": {
   "codemirror_mode": {
    "name": "ipython",
    "version": 3
   },
   "file_extension": ".py",
   "mimetype": "text/x-python",
   "name": "python",
   "nbconvert_exporter": "python",
   "pygments_lexer": "ipython3",
   "version": "3.12.7"
  }
 },
 "nbformat": 4,
 "nbformat_minor": 2
}
