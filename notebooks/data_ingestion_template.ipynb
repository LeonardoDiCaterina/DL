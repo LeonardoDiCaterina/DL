{
 "cells": [
  {
   "cell_type": "markdown",
   "metadata": {},
   "source": [
    "# title notebook\n"
   ]
  },
  {
   "cell_type": "code",
   "execution_count": 1,
   "metadata": {},
   "outputs": [],
   "source": [
    "import pandas as pd\n",
    "import numpy as np\n",
    "import matplotlib.pyplot as plt\n",
    "import seaborn as sns\n",
    "import tensorflow as tf\n",
    "import os"
   ]
  },
  {
   "cell_type": "code",
   "execution_count": 2,
   "metadata": {},
   "outputs": [
    {
     "name": "stdout",
     "output_type": "stream",
     "text": [
      "Base folder: /Users/leonardodicaterina/Desktop/NovaIMS/DL/notebooks\n",
      "Parent folder: /Users/leonardodicaterina/Desktop/NovaIMS/DL\n",
      "Data folder: /Users/leonardodicaterina/Desktop/NovaIMS/DL/data\n",
      "Data prep folder: /Users/leonardodicaterina/Desktop/NovaIMS/DL/data_preprocessing\n",
      "Directory contents:\n"
     ]
    },
    {
     "name": "stderr",
     "output_type": "stream",
     "text": [
      "2025-04-09 20:32:22,920 - __main__ - INFO - Removing existing directory ../data/rearranged\n",
      "2025-04-09 20:32:22,920 - __main__ - INFO - Starting preprocessing pipeline\n",
      "2025-04-09 20:32:22,941 - __main__ - INFO - Loaded metadata with 11983 entries\n",
      "2025-04-09 20:32:22,941 - splitting - INFO - Splitting dataset into train/test and folds\n",
      "2025-04-09 20:32:22,956 - splitting - INFO - Created 5 stratified folds\n",
      "2025-04-09 20:32:22,956 - __main__ - INFO - Data splitting completed\n",
      "2025-04-09 20:32:22,956 - __main__ - INFO - Creating directory ../data/rearranged/fold_0\n",
      "2025-04-09 20:32:22,956 - __main__ - INFO - Renaming and saving fold 0\n",
      "2025-04-09 20:32:22,956 - augmentation - INFO - oversampling: False\n",
      "2025-04-09 20:32:22,956 - augmentation - INFO - OVERSAMPLE: False\n",
      "2025-04-09 20:32:22,956 - data_utils - INFO - Calculating number of oversampling copies per class\n",
      "2025-04-09 20:32:22,956 - data_utils - INFO - Analyzing class proportions\n",
      "2025-04-09 20:32:24,853 - __main__ - INFO - Saved fold metadata to ../data/rearranged/fold_0/metadata_00.csv\n",
      "2025-04-09 20:32:24,853 - __main__ - INFO - Saved fold 0 to ../data/rearranged/fold_0\n",
      "2025-04-09 20:32:24,853 - __main__ - INFO - Creating directory ../data/rearranged/fold_1\n",
      "2025-04-09 20:32:24,853 - __main__ - INFO - Renaming and saving fold 1\n",
      "2025-04-09 20:32:24,854 - augmentation - INFO - oversampling: False\n",
      "2025-04-09 20:32:24,854 - augmentation - INFO - OVERSAMPLE: False\n",
      "2025-04-09 20:32:24,854 - data_utils - INFO - Calculating number of oversampling copies per class\n",
      "2025-04-09 20:32:24,854 - data_utils - INFO - Analyzing class proportions\n",
      "2025-04-09 20:32:26,419 - __main__ - INFO - Saved fold metadata to ../data/rearranged/fold_1/metadata_01.csv\n",
      "2025-04-09 20:32:26,419 - __main__ - INFO - Saved fold 1 to ../data/rearranged/fold_1\n",
      "2025-04-09 20:32:26,419 - __main__ - INFO - Creating directory ../data/rearranged/fold_2\n",
      "2025-04-09 20:32:26,419 - __main__ - INFO - Renaming and saving fold 2\n",
      "2025-04-09 20:32:26,419 - augmentation - INFO - oversampling: False\n",
      "2025-04-09 20:32:26,419 - augmentation - INFO - OVERSAMPLE: False\n",
      "2025-04-09 20:32:26,420 - data_utils - INFO - Calculating number of oversampling copies per class\n",
      "2025-04-09 20:32:26,420 - data_utils - INFO - Analyzing class proportions\n",
      "2025-04-09 20:32:28,057 - __main__ - INFO - Saved fold metadata to ../data/rearranged/fold_2/metadata_02.csv\n",
      "2025-04-09 20:32:28,058 - __main__ - INFO - Saved fold 2 to ../data/rearranged/fold_2\n",
      "2025-04-09 20:32:28,058 - __main__ - INFO - Creating directory ../data/rearranged/fold_3\n",
      "2025-04-09 20:32:28,058 - __main__ - INFO - Renaming and saving fold 3\n",
      "2025-04-09 20:32:28,058 - augmentation - INFO - oversampling: False\n",
      "2025-04-09 20:32:28,058 - augmentation - INFO - OVERSAMPLE: False\n",
      "2025-04-09 20:32:28,060 - data_utils - INFO - Calculating number of oversampling copies per class\n",
      "2025-04-09 20:32:28,060 - data_utils - INFO - Analyzing class proportions\n",
      "2025-04-09 20:32:29,571 - __main__ - INFO - Saved fold metadata to ../data/rearranged/fold_3/metadata_03.csv\n",
      "2025-04-09 20:32:29,572 - __main__ - INFO - Saved fold 3 to ../data/rearranged/fold_3\n",
      "2025-04-09 20:32:29,572 - __main__ - INFO - Creating directory ../data/rearranged/fold_4\n",
      "2025-04-09 20:32:29,572 - __main__ - INFO - Renaming and saving fold 4\n",
      "2025-04-09 20:32:29,572 - augmentation - INFO - oversampling: False\n",
      "2025-04-09 20:32:29,572 - augmentation - INFO - OVERSAMPLE: False\n",
      "2025-04-09 20:32:29,572 - data_utils - INFO - Calculating number of oversampling copies per class\n",
      "2025-04-09 20:32:29,572 - data_utils - INFO - Analyzing class proportions\n",
      "2025-04-09 20:32:31,120 - __main__ - INFO - Saved fold metadata to ../data/rearranged/fold_4/metadata_04.csv\n",
      "2025-04-09 20:32:31,120 - __main__ - INFO - Saved fold 4 to ../data/rearranged/fold_4\n",
      "2025-04-09 20:32:31,120 - __main__ - INFO - Creating directory ../data/rearranged/test\n",
      "2025-04-09 20:32:31,120 - __main__ - INFO - Renaming and saving test set\n",
      "2025-04-09 20:32:31,120 - augmentation - INFO - oversampling: False\n",
      "2025-04-09 20:32:31,120 - augmentation - INFO - OVERSAMPLE: False\n",
      "2025-04-09 20:32:31,120 - data_utils - INFO - Calculating number of oversampling copies per class\n",
      "2025-04-09 20:32:31,120 - data_utils - INFO - Analyzing class proportions\n",
      "2025-04-09 20:32:32,936 - __main__ - INFO - Saved test metadata to ../data/rearranged/test/metadata_test.csv\n",
      "2025-04-09 20:32:32,936 - __main__ - INFO - Saved test set to ../data/rearranged/test\n",
      "2025-04-09 20:32:32,936 - __main__ - INFO - Preprocessing pipeline completed\n"
     ]
    }
   ],
   "source": [
    "# Global definitions\n",
    "base_folder = os.getcwd()\n",
    "print(\"Base folder:\", base_folder)\n",
    "parent_folder = os.path.dirname(base_folder)\n",
    "print(\"Parent folder:\", parent_folder)\n",
    "data_folder = os.path.join(parent_folder, \"data\")\n",
    "print(\"Data folder:\", data_folder)\n",
    "data_prep_folder = os.path.join(parent_folder, \"data_preprocessing\")\n",
    "print(\"Data prep folder:\", data_prep_folder)\n",
    "# print the directory contents\n",
    "print(\"Directory contents:\")    \n",
    "# run 'main.py' in the data_prep_folder\n",
    "os.chdir(data_prep_folder)\n",
    "os.system('python3 main.py')\n",
    "from config import DEST_DIR\n"
   ]
  },
  {
   "cell_type": "code",
   "execution_count": 3,
   "metadata": {},
   "outputs": [
    {
     "name": "stdout",
     "output_type": "stream",
     "text": [
      "Directory contents:\n",
      "\u001b[34mfold_0\u001b[m\u001b[m\n",
      "\u001b[34mfold_1\u001b[m\u001b[m\n",
      "\u001b[34mfold_2\u001b[m\u001b[m\n",
      "\u001b[34mfold_3\u001b[m\u001b[m\n",
      "\u001b[34mfold_4\u001b[m\u001b[m\n",
      "\u001b[34mtest\u001b[m\u001b[m\n"
     ]
    },
    {
     "data": {
      "text/plain": [
       "0"
      ]
     },
     "execution_count": 3,
     "metadata": {},
     "output_type": "execute_result"
    }
   ],
   "source": [
    "data_folder_rearranged = os.path.join(data_folder, \"rearranged\")\n",
    "# print the directory contents\n",
    "os.chdir(data_folder_rearranged)\n",
    "print(\"Directory contents:\")    \n",
    "os.system('ls')"
   ]
  },
  {
   "cell_type": "code",
   "execution_count": 4,
   "metadata": {},
   "outputs": [
    {
     "name": "stdout",
     "output_type": "stream",
     "text": [
      "Found 1917 files belonging to 202 classes.\n"
     ]
    }
   ],
   "source": [
    "import keras\n",
    "\n",
    "test_folder = os.path.join(data_folder_rearranged, \"fold_4\")\n",
    "\n",
    "folds = []\n",
    "for i in range(5):\n",
    "    folds.append(os.path.join(data_folder_rearranged, f\"fold_{i}\"))\n",
    "\n",
    "\n",
    "\n",
    "test_ds = keras.utils.image_dataset_from_directory(\n",
    "    directory=test_folder,\n",
    "    labels='inferred',\n",
    "    label_mode='categorical',\n",
    "    batch_size=32,\n",
    "    image_size=(256, 256))"
   ]
  }
 ],
 "metadata": {
  "kernelspec": {
   "display_name": "DL_env",
   "language": "python",
   "name": "python3"
  },
  "language_info": {
   "codemirror_mode": {
    "name": "ipython",
    "version": 3
   },
   "file_extension": ".py",
   "mimetype": "text/x-python",
   "name": "python",
   "nbconvert_exporter": "python",
   "pygments_lexer": "ipython3",
   "version": "3.12.7"
  }
 },
 "nbformat": 4,
 "nbformat_minor": 2
}
