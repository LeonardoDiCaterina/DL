{
 "cells": [
  {
   "cell_type": "code",
   "execution_count": 2,
   "id": "20b9a9f8",
   "metadata": {},
   "outputs": [
    {
     "name": "stdout",
     "output_type": "stream",
     "text": [
      "Collecting tqdm\n",
      "  Downloading tqdm-4.67.1-py3-none-any.whl.metadata (57 kB)\n",
      "Requirement already satisfied: colorama in c:\\d\\4_fss_2025_nova\\deep_learning\\deeplearning\\lib\\site-packages (from tqdm) (0.4.6)\n",
      "Downloading tqdm-4.67.1-py3-none-any.whl (78 kB)\n",
      "Installing collected packages: tqdm\n",
      "Successfully installed tqdm-4.67.1\n"
     ]
    }
   ],
   "source": [
    "!pip install tqdm"
   ]
  },
  {
   "cell_type": "code",
   "execution_count": 4,
   "id": "555b56e4",
   "metadata": {},
   "outputs": [],
   "source": [
    "import pandas as pd\n",
    "from sklearn.model_selection import train_test_split\n",
    "import os\n",
    "import shutil\n",
    "from pathlib import Path\n",
    "from tqdm import tqdm"
   ]
  },
  {
   "cell_type": "markdown",
   "id": "86a5c542",
   "metadata": {},
   "source": [
    "1. Function to split metadata into train, validation and test sets [DONE]\n",
    "2. Fucntion to write files from a split into required directury hierarchy [PENDING]"
   ]
  },
  {
   "cell_type": "code",
   "execution_count": null,
   "id": "9950394d",
   "metadata": {},
   "outputs": [],
   "source": [
    "# 1.\n",
    "def create_split(df: pd.DataFrame, val_ratio: float, test_ratio: float) -> tuple[pd.DataFrame, pd.DataFrame, pd.DataFrame]:\n",
    "    \"\"\"\n",
    "    Splits a DataFrame with two columns (file path, target class) into stratified train, validation, and test sets.\n",
    "\n",
    "    :param df (pd.DataFrame): input DataFrame with [file_path, target_class] columns\n",
    "    :param val_ratio (float): proportion of data for validation\n",
    "    :param test_ratio (float): proportion of data for testing \n",
    "    :returns: tuple (train_df, val_df, test_df) as stratified splits\n",
    "    \"\"\"\n",
    "    assert df.shape[1] == 2, \"Dataframe should have 2 columns\"\n",
    "    assert 0 < val_ratio < 1 and 0 < test_ratio < 1 and val_ratio + test_ratio < 1, \"Incorrect split ratio\"\n",
    "\n",
    "    path = df.iloc[:, 0]\n",
    "    target = df.iloc[:, 1]\n",
    "\n",
    "    # defining splits\n",
    "    path_train, path_test, target_train, target_test = train_test_split(path, target, test_size = test_ratio, random_state=42, stratify=target)\n",
    "    path_train, path_val, target_train, target_val = train_test_split(path_train, target_train, test_size=val_ratio/(1-test_ratio), random_state=42, stratify=target_train)\n",
    "\n",
    "    # concatenating path and target data\n",
    "    train_df = pd.concat([path_train, target_train], axis=1)\n",
    "    val_df = pd.concat([path_val, target_val], axis=1)\n",
    "    test_df = pd.concat([path_test, target_test], axis=1)\n",
    "\n",
    "    return train_df, val_df, test_df\n",
    "    \n",
    "    "
   ]
  },
  {
   "cell_type": "code",
   "execution_count": 6,
   "id": "bfeaa23f",
   "metadata": {},
   "outputs": [
    {
     "data": {
      "text/plain": [
       "11983"
      ]
     },
     "execution_count": 6,
     "metadata": {},
     "output_type": "execute_result"
    }
   ],
   "source": [
    "# testing function on metadata file\n",
    "df = pd.read_csv('../data/rare_species 1/metadata.csv')\n",
    "df_phylum = df[[\"file_path\", \"phylum\"]]\n",
    "\n",
    "len(df_phylum)"
   ]
  },
  {
   "cell_type": "code",
   "execution_count": 7,
   "id": "9fad5b1b",
   "metadata": {},
   "outputs": [
    {
     "name": "stdout",
     "output_type": "stream",
     "text": [
      "True\n"
     ]
    }
   ],
   "source": [
    "tr, v, t = create_split(df_phylum, 0.2, 0.1)\n",
    "print ((len(tr) + len(v) + len(t)) == len(df))"
   ]
  },
  {
   "cell_type": "code",
   "execution_count": 8,
   "id": "ff6cffa7",
   "metadata": {},
   "outputs": [
    {
     "name": "stdout",
     "output_type": "stream",
     "text": [
      "Training set: 8387 examples\n",
      "phylum\n",
      "chordata         6965\n",
      "arthropoda        666\n",
      "cnidaria          567\n",
      "mollusca          147\n",
      "echinodermata      42\n",
      "Name: count, dtype: int64\n",
      "\n",
      "Validation set: 2397 examples\n",
      "phylum\n",
      "chordata         1991\n",
      "arthropoda        190\n",
      "cnidaria          162\n",
      "mollusca           42\n",
      "echinodermata      12\n",
      "Name: count, dtype: int64\n",
      "\n",
      "Testing set: 1199 examples\n",
      "phylum\n",
      "chordata         996\n",
      "arthropoda        95\n",
      "cnidaria          81\n",
      "mollusca          21\n",
      "echinodermata      6\n",
      "Name: count, dtype: int64\n"
     ]
    }
   ],
   "source": [
    "print(f'Training set: {len(tr)} examples\\n{tr.iloc[:, 1].value_counts()}\\n')\n",
    "print(f'Validation set: {len(v)} examples\\n{v.iloc[:, 1].value_counts()}\\n')\n",
    "print(f'Testing set: {len(t)} examples\\n{t.iloc[:, 1].value_counts()}')"
   ]
  },
  {
   "cell_type": "code",
   "execution_count": 9,
   "id": "97914932",
   "metadata": {},
   "outputs": [
    {
     "data": {
      "text/html": [
       "<div>\n",
       "<style scoped>\n",
       "    .dataframe tbody tr th:only-of-type {\n",
       "        vertical-align: middle;\n",
       "    }\n",
       "\n",
       "    .dataframe tbody tr th {\n",
       "        vertical-align: top;\n",
       "    }\n",
       "\n",
       "    .dataframe thead th {\n",
       "        text-align: right;\n",
       "    }\n",
       "</style>\n",
       "<table border=\"1\" class=\"dataframe\">\n",
       "  <thead>\n",
       "    <tr style=\"text-align: right;\">\n",
       "      <th></th>\n",
       "      <th>file_path</th>\n",
       "      <th>phylum</th>\n",
       "    </tr>\n",
       "  </thead>\n",
       "  <tbody>\n",
       "    <tr>\n",
       "      <th>9208</th>\n",
       "      <td>chordata_ambystomatidae/14005845_1019571_eol-f...</td>\n",
       "      <td>chordata</td>\n",
       "    </tr>\n",
       "    <tr>\n",
       "      <th>7117</th>\n",
       "      <td>chordata_urolophidae/2752484_46561068_eol-full...</td>\n",
       "      <td>chordata</td>\n",
       "    </tr>\n",
       "    <tr>\n",
       "      <th>11862</th>\n",
       "      <td>chordata_crocodylidae/22564193_795274_eol-full...</td>\n",
       "      <td>chordata</td>\n",
       "    </tr>\n",
       "    <tr>\n",
       "      <th>10662</th>\n",
       "      <td>chordata_fringillidae/21328570_47043290_eol-fu...</td>\n",
       "      <td>chordata</td>\n",
       "    </tr>\n",
       "    <tr>\n",
       "      <th>5308</th>\n",
       "      <td>chordata_gekkonidae/29874183_791137_eol-full-s...</td>\n",
       "      <td>chordata</td>\n",
       "    </tr>\n",
       "  </tbody>\n",
       "</table>\n",
       "</div>"
      ],
      "text/plain": [
       "                                               file_path    phylum\n",
       "9208   chordata_ambystomatidae/14005845_1019571_eol-f...  chordata\n",
       "7117   chordata_urolophidae/2752484_46561068_eol-full...  chordata\n",
       "11862  chordata_crocodylidae/22564193_795274_eol-full...  chordata\n",
       "10662  chordata_fringillidae/21328570_47043290_eol-fu...  chordata\n",
       "5308   chordata_gekkonidae/29874183_791137_eol-full-s...  chordata"
      ]
     },
     "execution_count": 9,
     "metadata": {},
     "output_type": "execute_result"
    }
   ],
   "source": [
    "tr.head()"
   ]
  },
  {
   "cell_type": "code",
   "execution_count": 10,
   "id": "fb4fb15a",
   "metadata": {},
   "outputs": [
    {
     "data": {
      "text/html": [
       "<div>\n",
       "<style scoped>\n",
       "    .dataframe tbody tr th:only-of-type {\n",
       "        vertical-align: middle;\n",
       "    }\n",
       "\n",
       "    .dataframe tbody tr th {\n",
       "        vertical-align: top;\n",
       "    }\n",
       "\n",
       "    .dataframe thead th {\n",
       "        text-align: right;\n",
       "    }\n",
       "</style>\n",
       "<table border=\"1\" class=\"dataframe\">\n",
       "  <thead>\n",
       "    <tr style=\"text-align: right;\">\n",
       "      <th></th>\n",
       "      <th>file_path</th>\n",
       "      <th>phylum</th>\n",
       "    </tr>\n",
       "  </thead>\n",
       "  <tbody>\n",
       "    <tr>\n",
       "      <th>9173</th>\n",
       "      <td>cnidaria_pocilloporidae/29676316_45275970_eol-...</td>\n",
       "      <td>cnidaria</td>\n",
       "    </tr>\n",
       "    <tr>\n",
       "      <th>7514</th>\n",
       "      <td>chordata_trochilidae/21360931_45512248_eol-ful...</td>\n",
       "      <td>chordata</td>\n",
       "    </tr>\n",
       "    <tr>\n",
       "      <th>8099</th>\n",
       "      <td>chordata_callitrichidae/20365852_323908_eol-fu...</td>\n",
       "      <td>chordata</td>\n",
       "    </tr>\n",
       "    <tr>\n",
       "      <th>4474</th>\n",
       "      <td>chordata_laridae/21923656_45509321_eol-full-si...</td>\n",
       "      <td>chordata</td>\n",
       "    </tr>\n",
       "    <tr>\n",
       "      <th>7118</th>\n",
       "      <td>chordata_balaenidae/28510307_46559421_eol-full...</td>\n",
       "      <td>chordata</td>\n",
       "    </tr>\n",
       "  </tbody>\n",
       "</table>\n",
       "</div>"
      ],
      "text/plain": [
       "                                              file_path    phylum\n",
       "9173  cnidaria_pocilloporidae/29676316_45275970_eol-...  cnidaria\n",
       "7514  chordata_trochilidae/21360931_45512248_eol-ful...  chordata\n",
       "8099  chordata_callitrichidae/20365852_323908_eol-fu...  chordata\n",
       "4474  chordata_laridae/21923656_45509321_eol-full-si...  chordata\n",
       "7118  chordata_balaenidae/28510307_46559421_eol-full...  chordata"
      ]
     },
     "execution_count": 10,
     "metadata": {},
     "output_type": "execute_result"
    }
   ],
   "source": [
    "v.head()"
   ]
  },
  {
   "cell_type": "code",
   "execution_count": 11,
   "id": "e19dd73c",
   "metadata": {},
   "outputs": [
    {
     "data": {
      "text/html": [
       "<div>\n",
       "<style scoped>\n",
       "    .dataframe tbody tr th:only-of-type {\n",
       "        vertical-align: middle;\n",
       "    }\n",
       "\n",
       "    .dataframe tbody tr th {\n",
       "        vertical-align: top;\n",
       "    }\n",
       "\n",
       "    .dataframe thead th {\n",
       "        text-align: right;\n",
       "    }\n",
       "</style>\n",
       "<table border=\"1\" class=\"dataframe\">\n",
       "  <thead>\n",
       "    <tr style=\"text-align: right;\">\n",
       "      <th></th>\n",
       "      <th>file_path</th>\n",
       "      <th>phylum</th>\n",
       "    </tr>\n",
       "  </thead>\n",
       "  <tbody>\n",
       "    <tr>\n",
       "      <th>11315</th>\n",
       "      <td>mollusca_cardiidae/10836386_46473747_eol-full-...</td>\n",
       "      <td>mollusca</td>\n",
       "    </tr>\n",
       "    <tr>\n",
       "      <th>1135</th>\n",
       "      <td>arthropoda_carabidae/10787825_2867406_eol-full...</td>\n",
       "      <td>arthropoda</td>\n",
       "    </tr>\n",
       "    <tr>\n",
       "      <th>2549</th>\n",
       "      <td>chordata_hexanchidae/22181459_46560151_eol-ful...</td>\n",
       "      <td>chordata</td>\n",
       "    </tr>\n",
       "    <tr>\n",
       "      <th>8061</th>\n",
       "      <td>chordata_ramphastidae/30015533_45512569_eol-fu...</td>\n",
       "      <td>chordata</td>\n",
       "    </tr>\n",
       "    <tr>\n",
       "      <th>6649</th>\n",
       "      <td>cnidaria_pocilloporidae/20916144_45275970_eol-...</td>\n",
       "      <td>cnidaria</td>\n",
       "    </tr>\n",
       "  </tbody>\n",
       "</table>\n",
       "</div>"
      ],
      "text/plain": [
       "                                               file_path      phylum\n",
       "11315  mollusca_cardiidae/10836386_46473747_eol-full-...    mollusca\n",
       "1135   arthropoda_carabidae/10787825_2867406_eol-full...  arthropoda\n",
       "2549   chordata_hexanchidae/22181459_46560151_eol-ful...    chordata\n",
       "8061   chordata_ramphastidae/30015533_45512569_eol-fu...    chordata\n",
       "6649   cnidaria_pocilloporidae/20916144_45275970_eol-...    cnidaria"
      ]
     },
     "execution_count": 11,
     "metadata": {},
     "output_type": "execute_result"
    }
   ],
   "source": [
    "t.head()"
   ]
  },
  {
   "cell_type": "code",
   "execution_count": null,
   "id": "569c0cd8",
   "metadata": {},
   "outputs": [
    {
     "name": "stdout",
     "output_type": "stream",
     "text": [
      "2397\n"
     ]
    },
    {
     "data": {
      "text/html": [
       "<div>\n",
       "<style scoped>\n",
       "    .dataframe tbody tr th:only-of-type {\n",
       "        vertical-align: middle;\n",
       "    }\n",
       "\n",
       "    .dataframe tbody tr th {\n",
       "        vertical-align: top;\n",
       "    }\n",
       "\n",
       "    .dataframe thead th {\n",
       "        text-align: right;\n",
       "    }\n",
       "</style>\n",
       "<table border=\"1\" class=\"dataframe\">\n",
       "  <thead>\n",
       "    <tr style=\"text-align: right;\">\n",
       "      <th></th>\n",
       "      <th>file_path</th>\n",
       "      <th>phylum</th>\n",
       "    </tr>\n",
       "  </thead>\n",
       "  <tbody>\n",
       "    <tr>\n",
       "      <th>6616</th>\n",
       "      <td>cnidaria_faviidae/28170637_45276848_eol-full-s...</td>\n",
       "      <td>cnidaria</td>\n",
       "    </tr>\n",
       "    <tr>\n",
       "      <th>2351</th>\n",
       "      <td>chordata_balaenicipitidae/14204552_1049385_eol...</td>\n",
       "      <td>chordata</td>\n",
       "    </tr>\n",
       "    <tr>\n",
       "      <th>9192</th>\n",
       "      <td>mollusca_cardiidae/2751825_46473744_eol-full-s...</td>\n",
       "      <td>mollusca</td>\n",
       "    </tr>\n",
       "    <tr>\n",
       "      <th>4003</th>\n",
       "      <td>chordata_latimeriidae/29935022_46582216_eol-fu...</td>\n",
       "      <td>chordata</td>\n",
       "    </tr>\n",
       "    <tr>\n",
       "      <th>2573</th>\n",
       "      <td>chordata_hemiscylliidae/29599796_46559713_eol-...</td>\n",
       "      <td>chordata</td>\n",
       "    </tr>\n",
       "  </tbody>\n",
       "</table>\n",
       "</div>"
      ],
      "text/plain": [
       "                                              file_path    phylum\n",
       "6616  cnidaria_faviidae/28170637_45276848_eol-full-s...  cnidaria\n",
       "2351  chordata_balaenicipitidae/14204552_1049385_eol...  chordata\n",
       "9192  mollusca_cardiidae/2751825_46473744_eol-full-s...  mollusca\n",
       "4003  chordata_latimeriidae/29935022_46582216_eol-fu...  chordata\n",
       "2573  chordata_hemiscylliidae/29599796_46559713_eol-...  chordata"
      ]
     },
     "execution_count": 16,
     "metadata": {},
     "output_type": "execute_result"
    }
   ],
   "source": [
    "#2\n",
    "\n",
    "# sample of dataset to test split and copy\n",
    "X = df_phylum.iloc[:, 0]\n",
    "y = df_phylum.iloc[:, 1]\n",
    "\n",
    "    # defining splits\n",
    "_x, sample_path, _y, sample_target = train_test_split(X, y, test_size = 0.2, random_state=42, stratify=y)\n",
    "sample_phylum_df = pd.concat([sample_path, sample_target], axis=1)\n",
    "print(len(sample_phylum_df))\n",
    "sample_phylum_df.head()"
   ]
  },
  {
   "cell_type": "code",
   "execution_count": 17,
   "id": "472bdd2b",
   "metadata": {},
   "outputs": [],
   "source": [
    "train_sample_phylum, val_sample_phylum, test_sample_phylum = create_split(sample_phylum_df, 0.2, 0.2)"
   ]
  },
  {
   "cell_type": "code",
   "execution_count": 20,
   "id": "bc5ffb0a",
   "metadata": {},
   "outputs": [
    {
     "data": {
      "text/html": [
       "<div>\n",
       "<style scoped>\n",
       "    .dataframe tbody tr th:only-of-type {\n",
       "        vertical-align: middle;\n",
       "    }\n",
       "\n",
       "    .dataframe tbody tr th {\n",
       "        vertical-align: top;\n",
       "    }\n",
       "\n",
       "    .dataframe thead th {\n",
       "        text-align: right;\n",
       "    }\n",
       "</style>\n",
       "<table border=\"1\" class=\"dataframe\">\n",
       "  <thead>\n",
       "    <tr style=\"text-align: right;\">\n",
       "      <th></th>\n",
       "      <th>file_path</th>\n",
       "      <th>phylum</th>\n",
       "    </tr>\n",
       "  </thead>\n",
       "  <tbody>\n",
       "    <tr>\n",
       "      <th>10010</th>\n",
       "      <td>chordata_salamandridae/21499620_289670_eol-ful...</td>\n",
       "      <td>chordata</td>\n",
       "    </tr>\n",
       "    <tr>\n",
       "      <th>6928</th>\n",
       "      <td>chordata_pleuronectidae/10431389_46570095_eol-...</td>\n",
       "      <td>chordata</td>\n",
       "    </tr>\n",
       "    <tr>\n",
       "      <th>1159</th>\n",
       "      <td>chordata_burhinidae/29684475_45517788_eol-full...</td>\n",
       "      <td>chordata</td>\n",
       "    </tr>\n",
       "    <tr>\n",
       "      <th>2593</th>\n",
       "      <td>chordata_nesospingidae/22028346_45510504_eol-f...</td>\n",
       "      <td>chordata</td>\n",
       "    </tr>\n",
       "    <tr>\n",
       "      <th>203</th>\n",
       "      <td>chordata_dasypodidae/5471999_328497_eol-full-s...</td>\n",
       "      <td>chordata</td>\n",
       "    </tr>\n",
       "  </tbody>\n",
       "</table>\n",
       "</div>"
      ],
      "text/plain": [
       "                                               file_path    phylum\n",
       "10010  chordata_salamandridae/21499620_289670_eol-ful...  chordata\n",
       "6928   chordata_pleuronectidae/10431389_46570095_eol-...  chordata\n",
       "1159   chordata_burhinidae/29684475_45517788_eol-full...  chordata\n",
       "2593   chordata_nesospingidae/22028346_45510504_eol-f...  chordata\n",
       "203    chordata_dasypodidae/5471999_328497_eol-full-s...  chordata"
      ]
     },
     "execution_count": 20,
     "metadata": {},
     "output_type": "execute_result"
    }
   ],
   "source": [
    "test_sample_phylum.head()"
   ]
  },
  {
   "cell_type": "code",
   "execution_count": null,
   "id": "6005f2f8",
   "metadata": {},
   "outputs": [],
   "source": [
    "# function to copy the files\n",
    "def write_split_dir(df: pd.DataFrame, split_folder_name: str, base_data_dir: str = \"../data/rare_species 1\"):\n",
    "    \"\"\"\n",
    "    Copies files from original data folder into a requiered directory based on provided split DataFrame\n",
    "\n",
    "    :param df (pd.DataFrame): input (split) DataFrame with [file_path, target_class] columns\n",
    "    :split_folder_name (str): name of the folder to create under `base_data_dir`, for clarity should \n",
    "    contain the name of class type (phylum/family) and name of the split (train/val/test)\n",
    "    :base_data_dir (str): base directory with original data, defaults to \"../data/rare_species1\".\n",
    "\n",
    "    \"\"\"\n",
    "    # creating \"split_folder_name\" directory if it doesn't exist\n",
    "    target_root = Path(base_data_dir).parent / split_folder_name\n",
    "    target_root.mkdir(parents=True, exist_ok=True)\n",
    "\n",
    "    # creating class folders if they don't exist\n",
    "    class_names = df.iloc[:, 1].unique()\n",
    "    for cls in class_names:\n",
    "        (target_root / cls).mkdir(exist_ok=True)\n",
    "\n",
    "    print(f\"Copying {len(df)} files into {split_folder_name}/...\")\n",
    "\n",
    "    # copyin files, showing progress\n",
    "    \n",
    "    for _, row in tqdm(df.iterrows(), total=len(df), desc=\"Copying files\"):\n",
    "        rel_path = row.iloc[0]\n",
    "        class_name = row.iloc[1]\n",
    "\n",
    "        src_path = Path(base_data_dir) / rel_path\n",
    "        dst_path = target_root / class_name / Path(rel_path).name\n",
    "\n",
    "        try:\n",
    "            shutil.copy2(src_path, dst_path)\n",
    "        except Exception as e:\n",
    "            print(f\"Failed to copy {src_path} → {dst_path}: {e}\")"
   ]
  },
  {
   "cell_type": "code",
   "execution_count": 28,
   "id": "d1dbcf92",
   "metadata": {},
   "outputs": [
    {
     "name": "stdout",
     "output_type": "stream",
     "text": [
      "Copying 480 files into test_sample_phylum/...\n"
     ]
    },
    {
     "name": "stderr",
     "output_type": "stream",
     "text": [
      "Copying files:   0%|          | 0/480 [00:00<?, ?it/s]"
     ]
    },
    {
     "name": "stderr",
     "output_type": "stream",
     "text": [
      "Copying files: 100%|██████████| 480/480 [00:04<00:00, 99.40it/s] \n"
     ]
    }
   ],
   "source": [
    "write_split_dir(test_sample_phylum, \"test_sample_phylum\")"
   ]
  },
  {
   "cell_type": "code",
   "execution_count": 29,
   "id": "e9b35b92",
   "metadata": {},
   "outputs": [
    {
     "name": "stdout",
     "output_type": "stream",
     "text": [
      "Copying 480 files into val_sample_phylum/...\n"
     ]
    },
    {
     "name": "stderr",
     "output_type": "stream",
     "text": [
      "Copying files: 100%|██████████| 480/480 [00:04<00:00, 96.28it/s] \n"
     ]
    }
   ],
   "source": [
    "write_split_dir(val_sample_phylum, \"val_sample_phylum\")"
   ]
  },
  {
   "cell_type": "code",
   "execution_count": 30,
   "id": "b3868b40",
   "metadata": {},
   "outputs": [
    {
     "name": "stdout",
     "output_type": "stream",
     "text": [
      "Copying 1437 files into train_sample_phylum/...\n"
     ]
    },
    {
     "name": "stderr",
     "output_type": "stream",
     "text": [
      "Copying files: 100%|██████████| 1437/1437 [00:14<00:00, 100.47it/s]\n"
     ]
    }
   ],
   "source": [
    "write_split_dir(train_sample_phylum, \"train_sample_phylum\")"
   ]
  },
  {
   "cell_type": "code",
   "execution_count": null,
   "id": "02d8c4f4",
   "metadata": {},
   "outputs": [],
   "source": []
  },
  {
   "cell_type": "code",
   "execution_count": null,
   "id": "0a11bee1",
   "metadata": {},
   "outputs": [],
   "source": []
  },
  {
   "cell_type": "code",
   "execution_count": null,
   "id": "35c12599",
   "metadata": {},
   "outputs": [],
   "source": []
  }
 ],
 "metadata": {
  "kernelspec": {
   "display_name": "deeplearning",
   "language": "python",
   "name": "python3"
  },
  "language_info": {
   "codemirror_mode": {
    "name": "ipython",
    "version": 3
   },
   "file_extension": ".py",
   "mimetype": "text/x-python",
   "name": "python",
   "nbconvert_exporter": "python",
   "pygments_lexer": "ipython3",
   "version": "3.11.7"
  }
 },
 "nbformat": 4,
 "nbformat_minor": 5
}
