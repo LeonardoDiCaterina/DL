{
 "cells": [
  {
   "cell_type": "markdown",
   "metadata": {},
   "source": [
    "# finetune my first model"
   ]
  },
  {
   "cell_type": "code",
   "execution_count": 24,
   "metadata": {},
   "outputs": [
    {
     "name": "stderr",
     "output_type": "stream",
     "text": [
      "Invalid model-index. Not loading eval results into CardData.\n",
      "Device set to use mps:0\n"
     ]
    }
   ],
   "source": [
    "\n",
    "#! pip install transformers tf-keras\n",
    "# Use a pipeline as a high-level helper\n",
    "from transformers import pipeline\n",
    "model_name = 'ritheshSree/animal-classifier'\n",
    "pipe = pipeline(\"image-classification\", model=model_name, device=0)"
   ]
  },
  {
   "cell_type": "code",
   "execution_count": 25,
   "metadata": {},
   "outputs": [
    {
     "name": "stdout",
     "output_type": "stream",
     "text": [
      "Label: snake, Score: 0.3025\n",
      "Label: dog, Score: 0.3009\n",
      "Label: cat, Score: 0.2043\n",
      "Label: tiger, Score: 0.1923\n"
     ]
    }
   ],
   "source": [
    "from transformers import pipeline\n",
    "from PIL import Image\n",
    "import os\n",
    "# Load your pipeline\n",
    "#pipe = pipeline(\"image-classification\", model=\"Fabiuas/Animal-classifier\")\n",
    "\n",
    "path_to_your_image = os.path.join(\"data/rare_species 1/arthropoda_apidae/20647909_1065369_eol-full-size-copy.jpg\")  # Replace with a real path\n",
    "# Load an image to classify\n",
    "image = Image.open(\"/Users/leonardodicaterina/Desktop/NovaIMS/DL/data/rare_species 1/arthropoda_apidae/21847574_1065348_eol-full-size-copy.jpg\")  # Replace with a real path\n",
    "\n",
    "# Run the classifier\n",
    "results = pipe(image)\n",
    "\n",
    "# Show the results\n",
    "for r in results:\n",
    "    print(f\"Label: {r['label']}, Score: {r['score']:.4f}\")"
   ]
  },
  {
   "cell_type": "code",
   "execution_count": 26,
   "metadata": {},
   "outputs": [
    {
     "name": "stdout",
     "output_type": "stream",
     "text": [
      "['ViTForImageClassification']\n",
      "Model architecture: ['ViTForImageClassification']\n"
     ]
    },
    {
     "name": "stderr",
     "output_type": "stream",
     "text": [
      "Invalid model-index. Not loading eval results into CardData.\n"
     ]
    }
   ],
   "source": [
    "from transformers import AutoModelForImageClassification, AutoConfig\n",
    "\n",
    "# Load the config (to check architecture)\n",
    "config = AutoConfig.from_pretrained(model_name)\n",
    "print(config.architectures)  # e.g., ['ResNetForImageClassification']\n",
    "\n",
    "# Load the actual model\n",
    "model = AutoModelForImageClassification.from_pretrained(model_name)\n",
    "\n",
    "print(\"Model architecture:\", config.architectures)\n"
   ]
  },
  {
   "cell_type": "code",
   "execution_count": 27,
   "metadata": {},
   "outputs": [
    {
     "name": "stdout",
     "output_type": "stream",
     "text": [
      "Model architecture: ['ViTForImageClassification']\n",
      "Model : ViTConfig {\n",
      "  \"architectures\": [\n",
      "    \"ViTForImageClassification\"\n",
      "  ],\n",
      "  \"attention_probs_dropout_prob\": 0.0,\n",
      "  \"encoder_stride\": 16,\n",
      "  \"hidden_act\": \"gelu\",\n",
      "  \"hidden_dropout_prob\": 0.0,\n",
      "  \"hidden_size\": 768,\n",
      "  \"id2label\": {\n",
      "    \"0\": \"cat\",\n",
      "    \"1\": \"dog\",\n",
      "    \"2\": \"snake\",\n",
      "    \"3\": \"tiger\"\n",
      "  },\n",
      "  \"image_size\": 224,\n",
      "  \"initializer_range\": 0.02,\n",
      "  \"intermediate_size\": 3072,\n",
      "  \"label2id\": {\n",
      "    \"cat\": \"0\",\n",
      "    \"dog\": \"1\",\n",
      "    \"snake\": \"2\",\n",
      "    \"tiger\": \"3\"\n",
      "  },\n",
      "  \"layer_norm_eps\": 1e-12,\n",
      "  \"model_type\": \"vit\",\n",
      "  \"num_attention_heads\": 12,\n",
      "  \"num_channels\": 3,\n",
      "  \"num_hidden_layers\": 12,\n",
      "  \"patch_size\": 16,\n",
      "  \"pooler_act\": \"tanh\",\n",
      "  \"pooler_output_size\": 768,\n",
      "  \"problem_type\": \"single_label_classification\",\n",
      "  \"qkv_bias\": true,\n",
      "  \"torch_dtype\": \"float32\",\n",
      "  \"transformers_version\": \"4.51.1\"\n",
      "}\n",
      "\n"
     ]
    }
   ],
   "source": [
    "print(\"Model architecture:\", config.architectures)\n",
    "print(\"Model :\", config)\n"
   ]
  },
  {
   "cell_type": "code",
   "execution_count": null,
   "metadata": {},
   "outputs": [
    {
     "data": {
      "text/plain": [
       "<generator object Module.parameters at 0x32db6cc80>"
      ]
     },
     "execution_count": 9,
     "metadata": {},
     "output_type": "execute_result"
    }
   ],
   "source": [
    "model.parameters()."
   ]
  },
  {
   "cell_type": "code",
   "execution_count": 8,
   "metadata": {},
   "outputs": [],
   "source": [
    "for param in model.parameters():\n",
    "    param.requires_grad = False\n",
    "\n",
    "# Unfreeze the classifier head\n",
    "for param in model.classifier.parameters():\n",
    "    param.requires_grad = True\n"
   ]
  }
 ],
 "metadata": {
  "kernelspec": {
   "display_name": "DL_env",
   "language": "python",
   "name": "python3"
  },
  "language_info": {
   "codemirror_mode": {
    "name": "ipython",
    "version": 3
   },
   "file_extension": ".py",
   "mimetype": "text/x-python",
   "name": "python",
   "nbconvert_exporter": "python",
   "pygments_lexer": "ipython3",
   "version": "3.12.7"
  }
 },
 "nbformat": 4,
 "nbformat_minor": 2
}
