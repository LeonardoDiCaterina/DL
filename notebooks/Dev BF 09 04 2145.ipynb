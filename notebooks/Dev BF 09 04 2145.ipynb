{
 "cells": [
  {
   "cell_type": "markdown",
   "id": "ad7e6e0a",
   "metadata": {},
   "source": [
    "# **Benchmark Model**"
   ]
  },
  {
   "cell_type": "markdown",
   "id": "66b2a6e0",
   "metadata": {},
   "source": [
    "## Libraries"
   ]
  },
  {
   "cell_type": "code",
   "execution_count": 1,
   "id": "41e5da36",
   "metadata": {},
   "outputs": [
    {
     "name": "stderr",
     "output_type": "stream",
     "text": [
      "2025-04-09 23:29:13.258538: I tensorflow/core/util/port.cc:153] oneDNN custom operations are on. You may see slightly different numerical results due to floating-point round-off errors from different computation orders. To turn them off, set the environment variable `TF_ENABLE_ONEDNN_OPTS=0`.\n",
      "2025-04-09 23:29:13.274010: E external/local_xla/xla/stream_executor/cuda/cuda_fft.cc:485] Unable to register cuFFT factory: Attempting to register factory for plugin cuFFT when one has already been registered\n",
      "2025-04-09 23:29:13.289908: E external/local_xla/xla/stream_executor/cuda/cuda_dnn.cc:8454] Unable to register cuDNN factory: Attempting to register factory for plugin cuDNN when one has already been registered\n",
      "2025-04-09 23:29:13.295351: E external/local_xla/xla/stream_executor/cuda/cuda_blas.cc:1452] Unable to register cuBLAS factory: Attempting to register factory for plugin cuBLAS when one has already been registered\n",
      "2025-04-09 23:29:13.308817: I tensorflow/core/platform/cpu_feature_guard.cc:210] This TensorFlow binary is optimized to use available CPU instructions in performance-critical operations.\n",
      "To enable the following instructions: SSE4.1 SSE4.2 AVX AVX2 AVX512F AVX512_VNNI FMA, in other operations, rebuild TensorFlow with the appropriate compiler flags.\n"
     ]
    }
   ],
   "source": [
    "# Libraries\n",
    "import pandas as pd\n",
    "import tensorflow as tf\n",
    "from tensorflow import keras\n",
    "import pandas as pd\n",
    "import numpy as np\n",
    "import os\n",
    "from PIL import Image\n",
    "import uuid\n",
    "\n",
    "from tensorflow.keras.applications import VGG16, VGG19\n",
    "from tensorflow.keras.applications.vgg16 import preprocess_input, decode_predictions\n",
    "from tensorflow.keras.preprocessing import image\n",
    "\n",
    "from utils.display_utils import show_image\n",
    "from utils.constants import METADATA_PATH, IMAGE_DIR, IMAGE_SIZE_STANDARD\n",
    "from utils.preprocess_utils import resize_image"
   ]
  },
  {
   "cell_type": "code",
   "execution_count": 2,
   "id": "3d1eae99",
   "metadata": {},
   "outputs": [],
   "source": [
    "# Setting options\n",
    "pd.set_option('display.max_rows', None)"
   ]
  },
  {
   "cell_type": "markdown",
   "id": "1392ef15",
   "metadata": {},
   "source": [
    "## Data Loading"
   ]
  },
  {
   "cell_type": "code",
   "execution_count": 3,
   "id": "01472203",
   "metadata": {},
   "outputs": [
    {
     "data": {
      "application/vnd.microsoft.datawrangler.viewer.v0+json": {
       "columns": [
        {
         "name": "index",
         "rawType": "int64",
         "type": "integer"
        },
        {
         "name": "rare_species_id",
         "rawType": "object",
         "type": "string"
        },
        {
         "name": "eol_content_id",
         "rawType": "int64",
         "type": "integer"
        },
        {
         "name": "eol_page_id",
         "rawType": "int64",
         "type": "integer"
        },
        {
         "name": "kingdom",
         "rawType": "object",
         "type": "string"
        },
        {
         "name": "phylum",
         "rawType": "object",
         "type": "string"
        },
        {
         "name": "family",
         "rawType": "object",
         "type": "string"
        },
        {
         "name": "file_path",
         "rawType": "object",
         "type": "string"
        }
       ],
       "conversionMethod": "pd.DataFrame",
       "ref": "65a5866a-6b83-448f-8e65-fa7070a315d6",
       "rows": [
        [
         "0",
         "75fd91cb-2881-41cd-88e6-de451e8b60e2",
         "12853737",
         "449393",
         "animalia",
         "mollusca",
         "unionidae",
         "mollusca_unionidae/12853737_449393_eol-full-size-copy.jpg"
        ],
        [
         "1",
         "28c508bc-63ff-4e60-9c8f-1934367e1528",
         "20969394",
         "793083",
         "animalia",
         "chordata",
         "geoemydidae",
         "chordata_geoemydidae/20969394_793083_eol-full-size-copy.jpg"
        ],
        [
         "2",
         "00372441-588c-4af8-9665-29bee20822c0",
         "28895411",
         "319982",
         "animalia",
         "chordata",
         "cryptobranchidae",
         "chordata_cryptobranchidae/28895411_319982_eol-full-size-copy.jpg"
        ],
        [
         "3",
         "29cc6040-6af2-49ee-86ec-ab7d89793828",
         "29658536",
         "45510188",
         "animalia",
         "chordata",
         "turdidae",
         "chordata_turdidae/29658536_45510188_eol-full-size-copy.jpg"
        ],
        [
         "4",
         "94004bff-3a33-4758-8125-bf72e6e57eab",
         "21252576",
         "7250886",
         "animalia",
         "chordata",
         "indriidae",
         "chordata_indriidae/21252576_7250886_eol-full-size-copy.jpg"
        ]
       ],
       "shape": {
        "columns": 7,
        "rows": 5
       }
      },
      "text/html": [
       "<div>\n",
       "<style scoped>\n",
       "    .dataframe tbody tr th:only-of-type {\n",
       "        vertical-align: middle;\n",
       "    }\n",
       "\n",
       "    .dataframe tbody tr th {\n",
       "        vertical-align: top;\n",
       "    }\n",
       "\n",
       "    .dataframe thead th {\n",
       "        text-align: right;\n",
       "    }\n",
       "</style>\n",
       "<table border=\"1\" class=\"dataframe\">\n",
       "  <thead>\n",
       "    <tr style=\"text-align: right;\">\n",
       "      <th></th>\n",
       "      <th>rare_species_id</th>\n",
       "      <th>eol_content_id</th>\n",
       "      <th>eol_page_id</th>\n",
       "      <th>kingdom</th>\n",
       "      <th>phylum</th>\n",
       "      <th>family</th>\n",
       "      <th>file_path</th>\n",
       "    </tr>\n",
       "  </thead>\n",
       "  <tbody>\n",
       "    <tr>\n",
       "      <th>0</th>\n",
       "      <td>75fd91cb-2881-41cd-88e6-de451e8b60e2</td>\n",
       "      <td>12853737</td>\n",
       "      <td>449393</td>\n",
       "      <td>animalia</td>\n",
       "      <td>mollusca</td>\n",
       "      <td>unionidae</td>\n",
       "      <td>mollusca_unionidae/12853737_449393_eol-full-si...</td>\n",
       "    </tr>\n",
       "    <tr>\n",
       "      <th>1</th>\n",
       "      <td>28c508bc-63ff-4e60-9c8f-1934367e1528</td>\n",
       "      <td>20969394</td>\n",
       "      <td>793083</td>\n",
       "      <td>animalia</td>\n",
       "      <td>chordata</td>\n",
       "      <td>geoemydidae</td>\n",
       "      <td>chordata_geoemydidae/20969394_793083_eol-full-...</td>\n",
       "    </tr>\n",
       "    <tr>\n",
       "      <th>2</th>\n",
       "      <td>00372441-588c-4af8-9665-29bee20822c0</td>\n",
       "      <td>28895411</td>\n",
       "      <td>319982</td>\n",
       "      <td>animalia</td>\n",
       "      <td>chordata</td>\n",
       "      <td>cryptobranchidae</td>\n",
       "      <td>chordata_cryptobranchidae/28895411_319982_eol-...</td>\n",
       "    </tr>\n",
       "    <tr>\n",
       "      <th>3</th>\n",
       "      <td>29cc6040-6af2-49ee-86ec-ab7d89793828</td>\n",
       "      <td>29658536</td>\n",
       "      <td>45510188</td>\n",
       "      <td>animalia</td>\n",
       "      <td>chordata</td>\n",
       "      <td>turdidae</td>\n",
       "      <td>chordata_turdidae/29658536_45510188_eol-full-s...</td>\n",
       "    </tr>\n",
       "    <tr>\n",
       "      <th>4</th>\n",
       "      <td>94004bff-3a33-4758-8125-bf72e6e57eab</td>\n",
       "      <td>21252576</td>\n",
       "      <td>7250886</td>\n",
       "      <td>animalia</td>\n",
       "      <td>chordata</td>\n",
       "      <td>indriidae</td>\n",
       "      <td>chordata_indriidae/21252576_7250886_eol-full-s...</td>\n",
       "    </tr>\n",
       "  </tbody>\n",
       "</table>\n",
       "</div>"
      ],
      "text/plain": [
       "                        rare_species_id  eol_content_id  eol_page_id  \\\n",
       "0  75fd91cb-2881-41cd-88e6-de451e8b60e2        12853737       449393   \n",
       "1  28c508bc-63ff-4e60-9c8f-1934367e1528        20969394       793083   \n",
       "2  00372441-588c-4af8-9665-29bee20822c0        28895411       319982   \n",
       "3  29cc6040-6af2-49ee-86ec-ab7d89793828        29658536     45510188   \n",
       "4  94004bff-3a33-4758-8125-bf72e6e57eab        21252576      7250886   \n",
       "\n",
       "    kingdom    phylum            family  \\\n",
       "0  animalia  mollusca         unionidae   \n",
       "1  animalia  chordata       geoemydidae   \n",
       "2  animalia  chordata  cryptobranchidae   \n",
       "3  animalia  chordata          turdidae   \n",
       "4  animalia  chordata         indriidae   \n",
       "\n",
       "                                           file_path  \n",
       "0  mollusca_unionidae/12853737_449393_eol-full-si...  \n",
       "1  chordata_geoemydidae/20969394_793083_eol-full-...  \n",
       "2  chordata_cryptobranchidae/28895411_319982_eol-...  \n",
       "3  chordata_turdidae/29658536_45510188_eol-full-s...  \n",
       "4  chordata_indriidae/21252576_7250886_eol-full-s...  "
      ]
     },
     "execution_count": 3,
     "metadata": {},
     "output_type": "execute_result"
    }
   ],
   "source": [
    "df = pd.read_csv(f'../{METADATA_PATH}')\n",
    "df.head()"
   ]
  },
  {
   "cell_type": "markdown",
   "id": "b8670ebd",
   "metadata": {},
   "source": [
    "## Data Preprocessing"
   ]
  },
  {
   "cell_type": "code",
   "execution_count": 4,
   "id": "59d9f777",
   "metadata": {},
   "outputs": [],
   "source": [
    "# Defining the model\n",
    "model = 'VGG16'"
   ]
  },
  {
   "cell_type": "code",
   "execution_count": 9,
   "id": "32d22a19",
   "metadata": {},
   "outputs": [
    {
     "ename": "KeyboardInterrupt",
     "evalue": "",
     "output_type": "error",
     "traceback": [
      "\u001b[31m---------------------------------------------------------------------------\u001b[39m",
      "\u001b[31mKeyboardInterrupt\u001b[39m                         Traceback (most recent call last)",
      "\u001b[32m/tmp/ipykernel_31978/2842300175.py\u001b[39m in \u001b[36m?\u001b[39m\u001b[34m()\u001b[39m\n\u001b[32m      1\u001b[39m \u001b[38;5;66;03m# Resizing the images\u001b[39;00m\n\u001b[32m----> \u001b[39m\u001b[32m2\u001b[39m resized_tensor = np.array([\n\u001b[32m      3\u001b[39m     keras.preprocessing.image.smart_resize(\n\u001b[32m      4\u001b[39m         keras.utils.load_img(\u001b[33mf\"../{IMAGE_DIR}/{img}\"\u001b[39m)\n\u001b[32m      5\u001b[39m         ,IMAGE_SIZE_STANDARD[model]\n",
      "\u001b[32m/tmp/ipykernel_31978/2842300175.py\u001b[39m in \u001b[36m?\u001b[39m\u001b[34m(.0)\u001b[39m\n\u001b[32m      2\u001b[39m \u001b[38;5;66;03m# Resizing the images\u001b[39;00m\n",
      "\u001b[32m~/anaconda3/envs/dl/lib/python3.11/site-packages/keras/src/utils/image_utils.py\u001b[39m in \u001b[36m?\u001b[39m\u001b[34m(x, size, interpolation, data_format, backend_module)\u001b[39m\n\u001b[32m    427\u001b[39m                 crop_box_wstart : crop_box_wstart + crop_width,\n\u001b[32m    428\u001b[39m                 :,\n\u001b[32m    429\u001b[39m             ]\n\u001b[32m    430\u001b[39m         \u001b[38;5;28;01melse\u001b[39;00m:\n\u001b[32m--> \u001b[39m\u001b[32m431\u001b[39m             img = img[\n\u001b[32m    432\u001b[39m                 crop_box_hstart : crop_box_hstart + crop_height,\n\u001b[32m    433\u001b[39m                 crop_box_wstart : crop_box_wstart + crop_width,\n\u001b[32m    434\u001b[39m                 :,\n",
      "\u001b[32m~/anaconda3/envs/dl/lib/python3.11/site-packages/tensorflow/python/util/traceback_utils.py\u001b[39m in \u001b[36m?\u001b[39m\u001b[34m(*args, **kwargs)\u001b[39m\n\u001b[32m    151\u001b[39m     \u001b[38;5;28;01mexcept\u001b[39;00m Exception \u001b[38;5;28;01mas\u001b[39;00m e:\n\u001b[32m    152\u001b[39m       filtered_tb = _process_traceback_frames(e.__traceback__)\n\u001b[32m    153\u001b[39m       \u001b[38;5;28;01mraise\u001b[39;00m e.with_traceback(filtered_tb) \u001b[38;5;28;01mfrom\u001b[39;00m \u001b[38;5;28;01mNone\u001b[39;00m\n\u001b[32m    154\u001b[39m     \u001b[38;5;28;01mfinally\u001b[39;00m:\n\u001b[32m--> \u001b[39m\u001b[32m155\u001b[39m       \u001b[38;5;28;01mdel\u001b[39;00m filtered_tb\n",
      "\u001b[32m~/anaconda3/envs/dl/lib/python3.11/site-packages/tensorflow/python/util/dispatch.py\u001b[39m in \u001b[36m?\u001b[39m\u001b[34m(*args, **kwargs)\u001b[39m\n\u001b[32m   1257\u001b[39m \n\u001b[32m   1258\u001b[39m       \u001b[38;5;66;03m# Fallback dispatch system (dispatch v1):\u001b[39;00m\n\u001b[32m   1259\u001b[39m       \u001b[38;5;28;01mtry\u001b[39;00m:\n\u001b[32m   1260\u001b[39m         \u001b[38;5;28;01mreturn\u001b[39;00m dispatch_target(*args, **kwargs)\n\u001b[32m-> \u001b[39m\u001b[32m1261\u001b[39m       \u001b[38;5;28;01mexcept\u001b[39;00m (TypeError, ValueError):\n\u001b[32m   1262\u001b[39m         \u001b[38;5;66;03m# Note: convert_to_eager_tensor currently raises a ValueError, not a\u001b[39;00m\n\u001b[32m   1263\u001b[39m         \u001b[38;5;66;03m# TypeError, when given unexpected types.  So we need to catch both.\u001b[39;00m\n\u001b[32m   1264\u001b[39m         result = dispatch(op_dispatch_handler, args, kwargs)\n",
      "\u001b[32m~/anaconda3/envs/dl/lib/python3.11/site-packages/tensorflow/python/ops/tensor_getitem_override.py\u001b[39m in \u001b[36m?\u001b[39m\u001b[34m(tensor, slice_spec, var)\u001b[39m\n\u001b[32m    252\u001b[39m           packed_strides = gen_math_ops.cast(packed_strides, dtypes.int16)\n\u001b[32m    253\u001b[39m     \u001b[38;5;28;01melse\u001b[39;00m:\n\u001b[32m    254\u001b[39m       var_empty = constant_op.constant([], dtype=dtypes.int32)\n\u001b[32m    255\u001b[39m       packed_begin = packed_end = packed_strides = var_empty\n\u001b[32m--> \u001b[39m\u001b[32m256\u001b[39m     return array_ops.strided_slice(\n\u001b[32m    257\u001b[39m         tensor,\n\u001b[32m    258\u001b[39m         packed_begin,\n\u001b[32m    259\u001b[39m         packed_end,\n",
      "\u001b[32m~/anaconda3/envs/dl/lib/python3.11/site-packages/tensorflow/python/util/traceback_utils.py\u001b[39m in \u001b[36m?\u001b[39m\u001b[34m(*args, **kwargs)\u001b[39m\n\u001b[32m    151\u001b[39m     \u001b[38;5;28;01mexcept\u001b[39;00m Exception \u001b[38;5;28;01mas\u001b[39;00m e:\n\u001b[32m    152\u001b[39m       filtered_tb = _process_traceback_frames(e.__traceback__)\n\u001b[32m    153\u001b[39m       \u001b[38;5;28;01mraise\u001b[39;00m e.with_traceback(filtered_tb) \u001b[38;5;28;01mfrom\u001b[39;00m \u001b[38;5;28;01mNone\u001b[39;00m\n\u001b[32m    154\u001b[39m     \u001b[38;5;28;01mfinally\u001b[39;00m:\n\u001b[32m--> \u001b[39m\u001b[32m155\u001b[39m       \u001b[38;5;28;01mdel\u001b[39;00m filtered_tb\n",
      "\u001b[32m~/anaconda3/envs/dl/lib/python3.11/site-packages/tensorflow/python/util/dispatch.py\u001b[39m in \u001b[36m?\u001b[39m\u001b[34m(*args, **kwargs)\u001b[39m\n\u001b[32m   1257\u001b[39m \n\u001b[32m   1258\u001b[39m       \u001b[38;5;66;03m# Fallback dispatch system (dispatch v1):\u001b[39;00m\n\u001b[32m   1259\u001b[39m       \u001b[38;5;28;01mtry\u001b[39;00m:\n\u001b[32m   1260\u001b[39m         \u001b[38;5;28;01mreturn\u001b[39;00m dispatch_target(*args, **kwargs)\n\u001b[32m-> \u001b[39m\u001b[32m1261\u001b[39m       \u001b[38;5;28;01mexcept\u001b[39;00m (TypeError, ValueError):\n\u001b[32m   1262\u001b[39m         \u001b[38;5;66;03m# Note: convert_to_eager_tensor currently raises a ValueError, not a\u001b[39;00m\n\u001b[32m   1263\u001b[39m         \u001b[38;5;66;03m# TypeError, when given unexpected types.  So we need to catch both.\u001b[39;00m\n\u001b[32m   1264\u001b[39m         result = dispatch(op_dispatch_handler, args, kwargs)\n",
      "\u001b[32m~/anaconda3/envs/dl/lib/python3.11/site-packages/tensorflow/python/ops/array_ops.py\u001b[39m in \u001b[36m?\u001b[39m\u001b[34m(input_, begin, end, strides, begin_mask, end_mask, ellipsis_mask, new_axis_mask, shrink_axis_mask, var, name)\u001b[39m\n\u001b[32m   1092\u001b[39m \n\u001b[32m   1093\u001b[39m   \u001b[38;5;28;01mif\u001b[39;00m strides \u001b[38;5;28;01mis\u001b[39;00m \u001b[38;5;28;01mNone\u001b[39;00m:\n\u001b[32m   1094\u001b[39m     strides = ones_like(begin)\n\u001b[32m   1095\u001b[39m \n\u001b[32m-> \u001b[39m\u001b[32m1096\u001b[39m   op = gen_array_ops.strided_slice(\n\u001b[32m   1097\u001b[39m       input=input_,\n\u001b[32m   1098\u001b[39m       begin=begin,\n\u001b[32m   1099\u001b[39m       end=end,\n",
      "\u001b[32m~/anaconda3/envs/dl/lib/python3.11/site-packages/tensorflow/python/ops/gen_array_ops.py\u001b[39m in \u001b[36m?\u001b[39m\u001b[34m(input, begin, end, strides, begin_mask, end_mask, ellipsis_mask, new_axis_mask, shrink_axis_mask, name)\u001b[39m\n\u001b[32m  10950\u001b[39m         \"new_axis_mask\", new_axis_mask, \"shrink_axis_mask\", shrink_axis_mask)\n\u001b[32m  10951\u001b[39m       \u001b[38;5;28;01mreturn\u001b[39;00m _result\n\u001b[32m  10952\u001b[39m     \u001b[38;5;28;01mexcept\u001b[39;00m _core._NotOkStatusException \u001b[38;5;28;01mas\u001b[39;00m e:\n\u001b[32m  10953\u001b[39m       _ops.raise_from_not_ok_status(e, name)\n\u001b[32m> \u001b[39m\u001b[32m10954\u001b[39m     \u001b[38;5;28;01mexcept\u001b[39;00m _core._FallbackException:\n\u001b[32m  10955\u001b[39m       \u001b[38;5;28;01mpass\u001b[39;00m\n\u001b[32m  10956\u001b[39m     \u001b[38;5;28;01mtry\u001b[39;00m:\n\u001b[32m  10957\u001b[39m       return strided_slice_eager_fallback(\n",
      "\u001b[31mKeyboardInterrupt\u001b[39m: "
     ]
    }
   ],
   "source": [
    "# Resizing the images\n",
    "resized_tensor = np.array([\n",
    "    keras.preprocessing.image.smart_resize(\n",
    "        keras.utils.load_img(f\"../{IMAGE_DIR}/{img}\")            \n",
    "        ,IMAGE_SIZE_STANDARD[model]\n",
    "    )\n",
    "    for img in df['file_path']\n",
    "])"
   ]
  },
  {
   "cell_type": "code",
   "execution_count": 7,
   "id": "ccba3b7b",
   "metadata": {},
   "outputs": [
    {
     "data": {
      "text/plain": [
       "<tf.Tensor: shape=(224, 224, 3), dtype=float32, numpy=\n",
       "array([[[0.0000000e+00, 0.0000000e+00, 0.0000000e+00],\n",
       "        [0.0000000e+00, 0.0000000e+00, 0.0000000e+00],\n",
       "        [0.0000000e+00, 0.0000000e+00, 0.0000000e+00],\n",
       "        ...,\n",
       "        [1.5760252e+02, 1.3460252e+02, 1.0060252e+02],\n",
       "        [8.0173698e+01, 5.8173702e+01, 1.8869991e+01],\n",
       "        [6.9915253e+01, 4.8915253e+01, 5.1473947e+00]],\n",
       "\n",
       "       [[0.0000000e+00, 0.0000000e+00, 0.0000000e+00],\n",
       "        [0.0000000e+00, 0.0000000e+00, 0.0000000e+00],\n",
       "        [0.0000000e+00, 0.0000000e+00, 0.0000000e+00],\n",
       "        ...,\n",
       "        [1.0691285e+02, 7.9912849e+01, 5.2633663e+01],\n",
       "        [5.9151855e+01, 3.3151855e+01, 1.5185547e-01],\n",
       "        [8.0941673e+01, 5.4941677e+01, 1.7941675e+01]],\n",
       "\n",
       "       [[0.0000000e+00, 0.0000000e+00, 0.0000000e+00],\n",
       "        [0.0000000e+00, 0.0000000e+00, 0.0000000e+00],\n",
       "        [0.0000000e+00, 0.0000000e+00, 0.0000000e+00],\n",
       "        ...,\n",
       "        [5.0678570e+01, 1.8598213e+01, 0.0000000e+00],\n",
       "        [6.3160713e+01, 3.2160713e+01, 4.0559521e+00],\n",
       "        [7.5120102e+01, 4.4280819e+01, 1.2495899e+01]],\n",
       "\n",
       "       ...,\n",
       "\n",
       "       [[3.3469673e+01, 3.0469671e+01, 2.1469671e+01],\n",
       "        [4.4651642e+00, 1.4651642e+00, 7.4226379e-01],\n",
       "        [3.5221779e+01, 3.2221779e+01, 2.3221779e+01],\n",
       "        ...,\n",
       "        [0.0000000e+00, 0.0000000e+00, 0.0000000e+00],\n",
       "        [0.0000000e+00, 0.0000000e+00, 0.0000000e+00],\n",
       "        [0.0000000e+00, 0.0000000e+00, 0.0000000e+00]],\n",
       "\n",
       "       [[4.2040138e+01, 3.9040138e+01, 3.0040138e+01],\n",
       "        [4.4428005e+01, 4.1428005e+01, 3.2428005e+01],\n",
       "        [1.6426344e+01, 1.3426344e+01, 4.4263439e+00],\n",
       "        ...,\n",
       "        [0.0000000e+00, 0.0000000e+00, 0.0000000e+00],\n",
       "        [0.0000000e+00, 0.0000000e+00, 0.0000000e+00],\n",
       "        [0.0000000e+00, 0.0000000e+00, 0.0000000e+00]],\n",
       "\n",
       "       [[2.6839163e+01, 2.5839163e+01, 7.8391638e+00],\n",
       "        [2.9455254e+01, 2.7455254e+01, 1.4151680e+01],\n",
       "        [3.0495074e+00, 4.9507394e-02, 0.0000000e+00],\n",
       "        ...,\n",
       "        [0.0000000e+00, 0.0000000e+00, 0.0000000e+00],\n",
       "        [0.0000000e+00, 0.0000000e+00, 0.0000000e+00],\n",
       "        [0.0000000e+00, 0.0000000e+00, 0.0000000e+00]]], dtype=float32)>"
      ]
     },
     "execution_count": 7,
     "metadata": {},
     "output_type": "execute_result"
    }
   ],
   "source": [
    "resized_tensor"
   ]
  },
  {
   "cell_type": "code",
   "execution_count": null,
   "id": "4f3815ba",
   "metadata": {},
   "outputs": [],
   "source": []
  }
 ],
 "metadata": {
  "kernelspec": {
   "display_name": "dl",
   "language": "python",
   "name": "python3"
  },
  "language_info": {
   "codemirror_mode": {
    "name": "ipython",
    "version": 3
   },
   "file_extension": ".py",
   "mimetype": "text/x-python",
   "name": "python",
   "nbconvert_exporter": "python",
   "pygments_lexer": "ipython3",
   "version": "3.11.11"
  }
 },
 "nbformat": 4,
 "nbformat_minor": 5
}
