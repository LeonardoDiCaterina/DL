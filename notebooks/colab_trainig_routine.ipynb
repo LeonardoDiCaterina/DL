{
 "cells": [
  {
   "cell_type": "markdown",
   "metadata": {},
   "source": [
    "# Colab training routine"
   ]
  },
  {
   "cell_type": "markdown",
   "metadata": {},
   "source": [
    "## Set Up the Environment"
   ]
  },
  {
   "cell_type": "code",
   "execution_count": null,
   "metadata": {},
   "outputs": [],
   "source": [
    "! git clone https://github.com/LeonardoDiCaterina/DL.git"
   ]
  },
  {
   "cell_type": "code",
   "execution_count": null,
   "metadata": {},
   "outputs": [],
   "source": [
    "from google.colab import drive\n",
    "drive.mount('/content/drive')"
   ]
  },
  {
   "cell_type": "markdown",
   "metadata": {},
   "source": [
    "## Hardware Testing"
   ]
  },
  {
   "cell_type": "code",
   "execution_count": null,
   "metadata": {},
   "outputs": [],
   "source": [
    "from psutil import virtual_memory\n",
    "import tensorflow as tf\n",
    "print('TensorFlow version:', tf.__version__)\n",
    "\n",
    "ram_gb = virtual_memory().total / 1e9\n",
    "print('Your runtime has {:.1f} gigabytes of available RAM\\n'.format(ram_gb))\n",
    "\n",
    "if ram_gb < 20:\n",
    "  print('Not using a high-RAM runtime')\n",
    "else:\n",
    "  print('You are using a high-RAM runtime!')"
   ]
  },
  {
   "cell_type": "code",
   "execution_count": null,
   "metadata": {},
   "outputs": [],
   "source": [
    "print(\"GPU Available:\", tf.config.list_physical_devices('GPU'))"
   ]
  },
  {
   "cell_type": "code",
   "execution_count": null,
   "metadata": {},
   "outputs": [],
   "source": [
    "print(\"Built with CUDA:\", tf.test.is_built_with_cuda())\n",
    "print(\"Is GPU available:\", tf.test.is_gpu_available())"
   ]
  },
  {
   "cell_type": "code",
   "execution_count": null,
   "metadata": {},
   "outputs": [],
   "source": [
    "dummy_model = tf.keras.Sequential([\n",
    "    tf.keras.layers.Input(shape=(256, 256, 3)),\n",
    "    tf.keras.layers.Conv2D(32, 3, activation='relu'),\n",
    "    tf.keras.layers.GlobalAveragePooling2D(),\n",
    "    tf.keras.layers.Dense(10)\n",
    "])\n",
    "\n",
    "\n",
    "dummy_input = tf.random.normal((1, 256, 256, 3))\n",
    "out = dummy_model(dummy_input)\n",
    "print(out.shape)"
   ]
  },
  {
   "cell_type": "code",
   "execution_count": null,
   "metadata": {},
   "outputs": [],
   "source": [
    "%cd DL"
   ]
  },
  {
   "cell_type": "markdown",
   "metadata": {},
   "source": [
    "## prepare the direcory for the dataset and preprcess the data"
   ]
  },
  {
   "cell_type": "code",
   "execution_count": null,
   "metadata": {},
   "outputs": [],
   "source": [
    "! mkdir /content/DL/data/downloaded_dataset"
   ]
  },
  {
   "cell_type": "code",
   "execution_count": null,
   "metadata": {},
   "outputs": [],
   "source": [
    "! gdown --id 1PyxqW_nsORX4PetkQo6OIL0mUL1pFsTD --output /content/DL/data/downloaded_dataset/rare_species.zip"
   ]
  },
  {
   "cell_type": "code",
   "execution_count": null,
   "metadata": {},
   "outputs": [],
   "source": [
    "! unzip data/downloaded_dataset/rare_species.zip -d data/downloaded_dataset"
   ]
  },
  {
   "cell_type": "markdown",
   "metadata": {},
   "source": [
    "copy this in the config file to the `preprocessing_config.py` file\n",
    "```python\n",
    "DATA_DIR = 'data/downloaded_dataset'\n",
    "DEST_DIR = 'data/rearranged'\n",
    "CSV_PATH = f'{DATA_DIR}/metadata.csv'\n",
    "N_SPLITS = 5 #it's a positive integer\n",
    "TEST_SIZE = 0.2 # it's a ratio therefore has to be between 0 and 1\n",
    "OVERSAMPLE = True\n",
    "LOG_LEVEL = 'INFO'\n",
    "LABEL_COL = 'family'\n",
    "```\n"
   ]
  },
  {
   "cell_type": "code",
   "execution_count": null,
   "metadata": {},
   "outputs": [],
   "source": [
    "! python /content/DL/data_preprocessing/main.py"
   ]
  },
  {
   "cell_type": "markdown",
   "metadata": {},
   "source": [
    "## Load the dataset"
   ]
  },
  {
   "cell_type": "code",
   "execution_count": null,
   "metadata": {},
   "outputs": [],
   "source": [
    "from data_preprocessing.data_loading import load_data\n",
    "train_folds, test_ds = load_data()"
   ]
  },
  {
   "cell_type": "markdown",
   "metadata": {},
   "source": [
    "## Run Grid Search"
   ]
  },
  {
   "cell_type": "markdown",
   "metadata": {},
   "source": [
    "copy this in the config file to the `preprocessing_config.py` file\n",
    "```python\n",
    "DATA_DIR = 'data/downloaded_dataset'\n",
    "DEST_DIR = 'data/rearranged'\n",
    "CSV_PATH = f'{DATA_DIR}/metadata.csv'\n",
    "N_SPLITS = 5 #it's a positive integer\n",
    "TEST_SIZE = 0.2 # it's a ratio therefore has to be between 0 and 1\n",
    "OVERSAMPLE = True\n",
    "LOG_LEVEL = 'INFO'\n",
    "LABEL_COL = 'family'\n",
    "```\n"
   ]
  },
  {
   "cell_type": "code",
   "execution_count": null,
   "metadata": {},
   "outputs": [],
   "source": [
    "from training.model_selection_utilis import build_param_grid, evaluated_cross_val"
   ]
  },
  {
   "cell_type": "code",
   "execution_count": null,
   "metadata": {},
   "outputs": [],
   "source": [
    "#modelnames = ['MobileNetV2', 'ResNet50']\n",
    "modelnames = ['ResNet50']\n",
    "freeze_options = [50, 100, 150]\n",
    "dense_options = [[512], [512, 256]]\n",
    "learning_rates = [1e-5, 1e-4]\n",
    "\n",
    "param_grid = build_param_grid(modelnames,freeze_options, dense_options, learning_rates)\n"
   ]
  },
  {
   "cell_type": "code",
   "execution_count": null,
   "metadata": {},
   "outputs": [],
   "source": [
    "models_list, results_df = evaluated_cross_val(train_folds, input_shape=(256, 256, 3), num_classes=202,\n",
    "                                              param_grid=param_grid, epochs=5)\n"
   ]
  }
 ],
 "metadata": {
  "language_info": {
   "name": "python"
  }
 },
 "nbformat": 4,
 "nbformat_minor": 2
}
