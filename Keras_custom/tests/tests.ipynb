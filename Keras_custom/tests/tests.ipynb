{
 "cells": [
  {
   "cell_type": "markdown",
   "metadata": {},
   "source": [
    "# tes losses import"
   ]
  },
  {
   "cell_type": "code",
   "execution_count": null,
   "metadata": {},
   "outputs": [],
   "source": [
    "# get to the right directory\n",
    "import os\n",
    "import sys\n",
    "import pathlib\n",
    "\n",
    "# get the path to the current file\n",
    "current_file_path = pathlib.Path().resolve()\n",
    "print(f\"Current file path: {current_file_path}\")\n",
    "# get the parent directory\n",
    "parent_directory = current_file_path.parent\n",
    "print(f\"Parent directory: {parent_directory}\")\n",
    "# add the parent directory to the sys.path\n",
    "sys.path.append(str(parent_directory))\n",
    "# import the custom modules\n",
    "from Losses import OverclassAwareLoss "
   ]
  },
  {
   "cell_type": "code",
   "execution_count": 2,
   "metadata": {},
   "outputs": [
    {
     "name": "stdout",
     "output_type": "stream",
     "text": [
      "test_Losses.py  test_Metrics.py tests.ipynb\n"
     ]
    }
   ],
   "source": [
    "!ls\n"
   ]
  },
  {
   "cell_type": "code",
   "execution_count": 3,
   "metadata": {},
   "outputs": [
    {
     "name": "stdout",
     "output_type": "stream",
     "text": [
      "\u001b[1m============================= test session starts ==============================\u001b[0m\n",
      "platform darwin -- Python 3.12.7, pytest-8.3.5, pluggy-1.5.0\n",
      "rootdir: /Users/leonardodicaterina/Desktop/NovaIMS/DL/Keras_custom/tests\n",
      "collected 6 items                                                              \u001b[0m\u001b[1m\n",
      "\n",
      "test_Metrics.py \u001b[32m.\u001b[0m\u001b[32m.\u001b[0m\u001b[32m.\u001b[0m\u001b[32m.\u001b[0m\u001b[32m.\u001b[0m\u001b[32m.\u001b[0m\u001b[33m                                                   [100%]\u001b[0m\n",
      "\n",
      "\u001b[33m=============================== warnings summary ===============================\u001b[0m\n",
      "test_Metrics.py::test_metric_per_batch_logging_with_expected\n",
      "  /opt/anaconda3/envs/DL_env/lib/python3.12/site-packages/keras/src/layers/core/dense.py:87: UserWarning: Do not pass an `input_shape`/`input_dim` argument to a layer. When using Sequential models, prefer using an `Input(shape)` object as the first layer in the model instead.\n",
      "    super().__init__(activity_regularizer=activity_regularizer, **kwargs)\n",
      "\n",
      "test_Metrics.py::test_metric_per_batch_logging_with_expected\n",
      "test_Metrics.py::test_metric_per_batch_logging_with_expected\n",
      "test_Metrics.py::test_metric_per_batch_logging_with_expected\n",
      "test_Metrics.py::test_metric_per_batch_logging_with_expected\n",
      "  /opt/anaconda3/envs/DL_env/lib/python3.12/site-packages/tensorflow/python/framework/ops.py:315: DeprecationWarning: Conversion of an array with ndim > 0 to a scalar is deprecated, and will error in future. Ensure you extract a single element from your array before performing this operation. (Deprecated NumPy 1.25.)\n",
      "    return float(self._numpy())\n",
      "\n",
      "-- Docs: https://docs.pytest.org/en/stable/how-to/capture-warnings.html\n",
      "\u001b[33m======================== \u001b[32m6 passed\u001b[0m, \u001b[33m\u001b[1m5 warnings\u001b[0m\u001b[33m in 4.88s\u001b[0m\u001b[33m =========================\u001b[0m\n"
     ]
    }
   ],
   "source": [
    "! pytest test_Metrics.py"
   ]
  },
  {
   "cell_type": "code",
   "execution_count": null,
   "metadata": {},
   "outputs": [],
   "source": []
  }
 ],
 "metadata": {
  "kernelspec": {
   "display_name": "DL_env",
   "language": "python",
   "name": "python3"
  },
  "language_info": {
   "codemirror_mode": {
    "name": "ipython",
    "version": 3
   },
   "file_extension": ".py",
   "mimetype": "text/x-python",
   "name": "python",
   "nbconvert_exporter": "python",
   "pygments_lexer": "ipython3",
   "version": "3.12.7"
  }
 },
 "nbformat": 4,
 "nbformat_minor": 2
}
